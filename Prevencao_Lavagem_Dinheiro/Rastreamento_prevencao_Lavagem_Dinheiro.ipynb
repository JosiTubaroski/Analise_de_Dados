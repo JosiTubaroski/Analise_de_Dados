{
 "cells": [
  {
   "cell_type": "markdown",
   "id": "26cd50d4",
   "metadata": {},
   "source": [
    "# 01. Introdução"
   ]
  },
  {
   "cell_type": "markdown",
   "id": "b18a98f1",
   "metadata": {},
   "source": [
    " <p> A lavagem de dinheiro é um crime financeiro que envolve a dissimulação da origem ilícita de fundos, tornando-os aparentemente legítimos. É uma atividade complexa e prejudicial que afeta diretamente a estabilidade econômica e a integridade dos sistemas financeiros em todo mundo. Como resposta a esse problema, os orgãos reguladores e as instituições financeiras têm se empenhado em implementar medidas efetivas de prevenção a lavagem de dinheiro. </p>\n",
    " \n",
    "  A análise de dados desempenha um papel fundamental nesse esforço, oferecendo uma abordagem baseada em evidências para identificar e mitigar atividades suspeitas. Por meio da utilização de técnicas é possivel identificar transações potencialmente ilícitas.\n",
    " \n",
    " "
   ]
  },
  {
   "cell_type": "markdown",
   "id": "3a1ed73b",
   "metadata": {},
   "source": [
    "**Exemplo Fictício:**\n",
    "\n",
    "O cenário abaixo é um exemplo ficticio para demonstrar o processo. **Os dados utilizidados aqui são fictícios e não deve ser considerados como informações reais.**"
   ]
  },
  {
   "cell_type": "markdown",
   "id": "0a9b11c9",
   "metadata": {},
   "source": [
    "# 02. Processo de ETL com Integration Service"
   ]
  },
  {
   "cell_type": "markdown",
   "id": "b7657c60",
   "metadata": {},
   "source": [
    "**Sobre ETL:** ETL é uma sigla que representa as três etapas fundamentais de um processo de integração de dados: Extração(Extraction), Transformação(Transformation) e Carga(Loading). É um processo usado para coletar dados de diferentes fontes, transformá-los em um formato adequado e carregá-los em um local destino, como um data warehouse, banco de dados ou outro sistema de armazenamento."
   ]
  },
  {
   "cell_type": "markdown",
   "id": "4e040f13",
   "metadata": {},
   "source": [
    "**Sobre Integration Service:** É um componente que faz parte de uma plataforma de integração de dados, como o Microsoft SQL Integration Service (SSIS) ou o Informatica PowerCenter. Ele desempenha um papel fundamental na execução de processos ETL e no gerenciamento do fluxo de dados entre diferentes fontes e destinos.\n",
    "\n",
    "Por meio de interface gráfica intuitiva, o Integration Service facilita a criação e a organização dos componentes do fluxo de trabalho, como conexões com fonte de dados, transformações, tarefas de controle de fluxo e configurações de carga. "
   ]
  },
  {
   "cell_type": "markdown",
   "id": "362d6d01",
   "metadata": {},
   "source": [
    "## 02.01 Extração:"
   ]
  },
  {
   "cell_type": "markdown",
   "id": "29a70e65",
   "metadata": {},
   "source": [
    "Para a extração das informações vamos utilizar nesse exemplo um arquivo .csv\n",
    "\n",
    "Esse arquivo contem as informações do cliente e operações realizadas pela instituição em (D-1)(dia menos um, em tradução livre) \n",
    "e é usado para indicar que os dados utilizados em uma determinada análise ou processamento são referentes ao dia anterior ao \n",
    "dia atual.\n",
    "\n",
    "**Exemplo de Arquivo:**\n",
    "\n",
    "<img src=\"Exemplo_Dados_2.GIF\" alt=\"Texto Alternativo\">\n"
   ]
  },
  {
   "cell_type": "markdown",
   "id": "9a8c615a",
   "metadata": {},
   "source": [
    "**Fluxo de Extração e Carga de Dados:**"
   ]
  },
  {
   "cell_type": "markdown",
   "id": "fd02ffed",
   "metadata": {},
   "source": [
    "**Principais Etapas do Pacote DTSX:**\n",
    "\n",
    "1. Limpeza da Tabela temporaria.\n",
    "\n",
    "<img src=\"Fluxo_Limpeza_Dados.GIF\" alt=\"Texto Alternativo\"> \n",
    "\n",
    "2. Fluxo de Leitura do Arquivo Origem e Carga na Tabela Destino\n",
    "\n",
    "<img src=\"Fluxo_Dados.GIF\" alt=\"Texto Alternativo\"> \n",
    "\n",
    "3. Executar Procedure para atualização dos dados.\n",
    "\n",
    "<img src=\"Procedure_Carga_Procedure.GIF\" alt=\"Texto Alternativo\"> \n"
   ]
  },
  {
   "cell_type": "markdown",
   "id": "fff86c82",
   "metadata": {},
   "source": [
    "**Conclusão:** Após a execução da carga são alimentadas as tabelas relacionadas a clientes e operações realizadas em (D-1) dia anterior ao dia atual."
   ]
  },
  {
   "cell_type": "markdown",
   "id": "e7670e94",
   "metadata": {},
   "source": [
    "# 03. Execução de Regra"
   ]
  },
  {
   "cell_type": "markdown",
   "id": "6b88eb5c",
   "metadata": {},
   "source": [
    "Nesse exemplo vamos utilizar a execução de uma regra para separa as operações de altos valores.\n",
    "\n",
    "### 03.01 Execução de Movimentação de Altos Valores\n",
    "\n",
    "O objetivo da Procedure é verificar movimentações de valor igual ou superior ao Parametro01 que é definido pelo Compliance da instituição financeira."
   ]
  },
  {
   "cell_type": "markdown",
   "id": "4c116ef5",
   "metadata": {},
   "source": [
    "<img src=\"Mov_Altos_Valores.GIF\" alt=\"Texto Alternativo\"> \n"
   ]
  },
  {
   "cell_type": "markdown",
   "id": "e0b5c135",
   "metadata": {},
   "source": [
    "<img src=\"Criar_TabelaTemporaria.GIF\"> "
   ]
  },
  {
   "cell_type": "markdown",
   "id": "85dd84fb",
   "metadata": {},
   "source": [
    "Verifica as operações de alto valor noo periodo analisado."
   ]
  },
  {
   "cell_type": "markdown",
   "id": "bb6275ee",
   "metadata": {},
   "source": [
    "<img src=\"Verifica_Operacoes_AltosValores.GIF\"> "
   ]
  },
  {
   "cell_type": "markdown",
   "id": "e24ed856",
   "metadata": {},
   "source": [
    "**Conclusão:** Após a analise as movimentações de altos valores são separadas em tabelas apartadas para posterior verificação das áreas responsáveis da instituição."
   ]
  },
  {
   "cell_type": "markdown",
   "id": "5f0b0c01",
   "metadata": {},
   "source": [
    "# 04. Consultas e Relatórios"
   ]
  },
  {
   "cell_type": "markdown",
   "id": "bfbecf11",
   "metadata": {},
   "source": [
    "Nessa etapa da vamos realizar algumas consultas e análises após as etapas apresentadas nos passos 2 e 3. "
   ]
  },
  {
   "cell_type": "markdown",
   "id": "f090ade0",
   "metadata": {},
   "source": [
    "Para essa etapa vamos utilizar SQL e Python."
   ]
  },
  {
   "cell_type": "markdown",
   "id": "e3afab44",
   "metadata": {},
   "source": [
    "### 04.01 - Importando Bibliotecas"
   ]
  },
  {
   "cell_type": "code",
   "execution_count": 1,
   "id": "5dc67df6",
   "metadata": {},
   "outputs": [],
   "source": [
    "#Importando os pacotes necessários para integrar o SQL com Python\n",
    "\n",
    "from datetime import date\n",
    "import time\n",
    "import socket\n",
    "import pandas as pd\n",
    "import pymssql as sql\n",
    "import warnings\n",
    "warnings.filterwarnings(\"ignore\")"
   ]
  },
  {
   "cell_type": "code",
   "execution_count": 13,
   "id": "1d1b84db",
   "metadata": {},
   "outputs": [],
   "source": [
    "#Cria a conexão com o SQL Server passando os parametros (Servidor, Usuário, Senha, Database)\n",
    "conexao = sql.connect('servidor', 'usuario', 'senha', 'banco_de_dados')\n",
    "\n",
    "# Chama a consulta ao banco de dados passando os parametros da conexao criada\n",
    "Quantidade_Total_Alertas = pd.read_sql_query(\"\"\"select count (*) as quantidade from dbo.tgr_alertas\n",
    "where cd_enquadramento = 1\n",
    "and dt_movimentacao = '2020-07-31'\"\"\", conexao)\n",
    "\n",
    "#Fecha conexão com banco de dados\n",
    "conexao.close()"
   ]
  },
  {
   "cell_type": "markdown",
   "id": "6e26840f",
   "metadata": {},
   "source": [
    "### 04.02 - Quantidade de Alertas gerados após a análise de Movimentações de Altos Valores"
   ]
  },
  {
   "cell_type": "code",
   "execution_count": 14,
   "id": "46e02f9e",
   "metadata": {},
   "outputs": [
    {
     "data": {
      "text/html": [
       "<div>\n",
       "<style scoped>\n",
       "    .dataframe tbody tr th:only-of-type {\n",
       "        vertical-align: middle;\n",
       "    }\n",
       "\n",
       "    .dataframe tbody tr th {\n",
       "        vertical-align: top;\n",
       "    }\n",
       "\n",
       "    .dataframe thead th {\n",
       "        text-align: right;\n",
       "    }\n",
       "</style>\n",
       "<table border=\"1\" class=\"dataframe\">\n",
       "  <thead>\n",
       "    <tr style=\"text-align: right;\">\n",
       "      <th></th>\n",
       "      <th>quantidade</th>\n",
       "    </tr>\n",
       "  </thead>\n",
       "  <tbody>\n",
       "    <tr>\n",
       "      <th>0</th>\n",
       "      <td>95</td>\n",
       "    </tr>\n",
       "  </tbody>\n",
       "</table>\n",
       "</div>"
      ],
      "text/plain": [
       "   quantidade\n",
       "0          95"
      ]
     },
     "execution_count": 14,
     "metadata": {},
     "output_type": "execute_result"
    }
   ],
   "source": [
    "Quantidade_Total_Alertas.head(1)"
   ]
  },
  {
   "cell_type": "markdown",
   "id": "e1a35b52",
   "metadata": {},
   "source": [
    "### 04.03 - Clientes com maior incidencia de Alertas"
   ]
  },
  {
   "cell_type": "code",
   "execution_count": 15,
   "id": "06368f81",
   "metadata": {},
   "outputs": [],
   "source": [
    "#Cria a conexão com o SQL Server passando os parametros (Servidor, Usuário, Senha, Database)\n",
    "conexao = sql.connect('servidor', 'usuario', 'senha', 'banco_de_dados')\n",
    "\n",
    "# Chama a consulta ao banco de dados passando os parametros da conexao criada\n",
    "Clientes_Alertas = pd.read_sql_query(\"\"\"select top 15 count (*) as quantidade, cd_cliente from dbo.tgr_alertas\n",
    "where cd_enquadramento = 1\n",
    "and dt_movimentacao = '2020-07-31'\n",
    "group by cd_cliente\n",
    "order by quantidade desc;\"\"\", conexao)\n",
    "\n",
    "#Fecha conexão com banco de dados\n",
    "conexao.close()"
   ]
  },
  {
   "cell_type": "code",
   "execution_count": 16,
   "id": "ddcf01d5",
   "metadata": {},
   "outputs": [
    {
     "data": {
      "text/html": [
       "<div>\n",
       "<style scoped>\n",
       "    .dataframe tbody tr th:only-of-type {\n",
       "        vertical-align: middle;\n",
       "    }\n",
       "\n",
       "    .dataframe tbody tr th {\n",
       "        vertical-align: top;\n",
       "    }\n",
       "\n",
       "    .dataframe thead th {\n",
       "        text-align: right;\n",
       "    }\n",
       "</style>\n",
       "<table border=\"1\" class=\"dataframe\">\n",
       "  <thead>\n",
       "    <tr style=\"text-align: right;\">\n",
       "      <th></th>\n",
       "      <th>quantidade</th>\n",
       "      <th>cd_cliente</th>\n",
       "    </tr>\n",
       "  </thead>\n",
       "  <tbody>\n",
       "    <tr>\n",
       "      <th>0</th>\n",
       "      <td>9</td>\n",
       "      <td>196592</td>\n",
       "    </tr>\n",
       "    <tr>\n",
       "      <th>1</th>\n",
       "      <td>9</td>\n",
       "      <td>207703</td>\n",
       "    </tr>\n",
       "    <tr>\n",
       "      <th>2</th>\n",
       "      <td>7</td>\n",
       "      <td>182151</td>\n",
       "    </tr>\n",
       "    <tr>\n",
       "      <th>3</th>\n",
       "      <td>5</td>\n",
       "      <td>143577</td>\n",
       "    </tr>\n",
       "    <tr>\n",
       "      <th>4</th>\n",
       "      <td>4</td>\n",
       "      <td>22339</td>\n",
       "    </tr>\n",
       "    <tr>\n",
       "      <th>5</th>\n",
       "      <td>4</td>\n",
       "      <td>846017</td>\n",
       "    </tr>\n",
       "    <tr>\n",
       "      <th>6</th>\n",
       "      <td>4</td>\n",
       "      <td>865396</td>\n",
       "    </tr>\n",
       "    <tr>\n",
       "      <th>7</th>\n",
       "      <td>3</td>\n",
       "      <td>16874</td>\n",
       "    </tr>\n",
       "    <tr>\n",
       "      <th>8</th>\n",
       "      <td>3</td>\n",
       "      <td>222146</td>\n",
       "    </tr>\n",
       "    <tr>\n",
       "      <th>9</th>\n",
       "      <td>3</td>\n",
       "      <td>450766</td>\n",
       "    </tr>\n",
       "    <tr>\n",
       "      <th>10</th>\n",
       "      <td>3</td>\n",
       "      <td>866459</td>\n",
       "    </tr>\n",
       "    <tr>\n",
       "      <th>11</th>\n",
       "      <td>2</td>\n",
       "      <td>411562</td>\n",
       "    </tr>\n",
       "    <tr>\n",
       "      <th>12</th>\n",
       "      <td>2</td>\n",
       "      <td>853047</td>\n",
       "    </tr>\n",
       "    <tr>\n",
       "      <th>13</th>\n",
       "      <td>2</td>\n",
       "      <td>857466</td>\n",
       "    </tr>\n",
       "    <tr>\n",
       "      <th>14</th>\n",
       "      <td>1</td>\n",
       "      <td>11730</td>\n",
       "    </tr>\n",
       "  </tbody>\n",
       "</table>\n",
       "</div>"
      ],
      "text/plain": [
       "    quantidade  cd_cliente\n",
       "0            9      196592\n",
       "1            9      207703\n",
       "2            7      182151\n",
       "3            5      143577\n",
       "4            4       22339\n",
       "5            4      846017\n",
       "6            4      865396\n",
       "7            3       16874\n",
       "8            3      222146\n",
       "9            3      450766\n",
       "10           3      866459\n",
       "11           2      411562\n",
       "12           2      853047\n",
       "13           2      857466\n",
       "14           1       11730"
      ]
     },
     "execution_count": 16,
     "metadata": {},
     "output_type": "execute_result"
    }
   ],
   "source": [
    "Clientes_Alertas.head(15)"
   ]
  },
  {
   "cell_type": "code",
   "execution_count": 17,
   "id": "80d5e089",
   "metadata": {},
   "outputs": [],
   "source": [
    "import seaborn as sb"
   ]
  },
  {
   "cell_type": "code",
   "execution_count": 35,
   "id": "710d18b2",
   "metadata": {},
   "outputs": [
    {
     "data": {
      "text/plain": [
       "<AxesSubplot:xlabel='quantidade', ylabel='Count'>"
      ]
     },
     "execution_count": 35,
     "metadata": {},
     "output_type": "execute_result"
    },
    {
     "data": {
      "image/png": "[encoded data removed]",
      "text/plain": [
       "<Figure size 640x480 with 1 Axes>"
      ]
     },
     "metadata": {},
     "output_type": "display_data"
    }
   ],
   "source": [
    "sb.histplot(Clientes_Alertas['quantidade'])"
   ]
  },
  {
   "cell_type": "markdown",
   "id": "88689e61",
   "metadata": {},
   "source": [
    "**Conclusão:** Dentre os clientes que tiveram maior numero de alertas gerados temos uma maior concentração entre 3 e 4 alertas.\n",
    "Os cliente com maior incidencia de alertas deve ser priorizado durantes os processos de verificação pelo compliance da instituição."
   ]
  },
  {
   "cell_type": "markdown",
   "id": "113b9a8b",
   "metadata": {},
   "source": []
  },
  {
   "cell_type": "markdown",
   "id": "96e97de9",
   "metadata": {},
   "source": [
    "## 04.04 Exemplo de Relatório com Scatter Plot (Gráfico de Dispersão)"
   ]
  },
  {
   "cell_type": "markdown",
   "id": "a9072fc7",
   "metadata": {},
   "source": [
    "**Cenário:** Supondo que uma determinada instituição queira analisar a quantidade de suspeitas de Fraudes foram geradas por Produto."
   ]
  },
  {
   "cell_type": "markdown",
   "id": "be47ddad",
   "metadata": {},
   "source": [
    "Para isso valos realizar os passos abaixo:"
   ]
  },
  {
   "cell_type": "code",
   "execution_count": 2,
   "id": "e14dff5b",
   "metadata": {},
   "outputs": [],
   "source": [
    "#Cria a conexão com o SQL Server passando os parametros (Servidor, Usuário, Senha, Database)\n",
    "conexao = sql.connect('servidor', 'usuario', 'senha', 'banco_de_dados')\n",
    "\n",
    "# Chama a consulta ao banco de dados passando os parametros da conexao criada\n",
    "dados = pd.read_sql_query(\"\"\"select pr.nm_produto, count(*) as Qtd_alertas  from dbo.tgr_alertas al\n",
    "join dbo.tpr_produto pr on al.cd_produto = pr.cd_produto \n",
    "where dt_movimentacao between '2020-06-01'\n",
    "and '2020-06-30'\n",
    "group by al.cd_produto, pr.nm_produto\n",
    "order by al.cd_produto\"\"\", conexao)\n",
    "\n",
    "#Fecha conexão com banco de dados\n",
    "conexao.close()"
   ]
  },
  {
   "cell_type": "code",
   "execution_count": 3,
   "id": "b3cf91be",
   "metadata": {},
   "outputs": [
    {
     "data": {
      "text/html": [
       "<div>\n",
       "<style scoped>\n",
       "    .dataframe tbody tr th:only-of-type {\n",
       "        vertical-align: middle;\n",
       "    }\n",
       "\n",
       "    .dataframe tbody tr th {\n",
       "        vertical-align: top;\n",
       "    }\n",
       "\n",
       "    .dataframe thead th {\n",
       "        text-align: right;\n",
       "    }\n",
       "</style>\n",
       "<table border=\"1\" class=\"dataframe\">\n",
       "  <thead>\n",
       "    <tr style=\"text-align: right;\">\n",
       "      <th></th>\n",
       "      <th>nm_produto</th>\n",
       "      <th>Qtd_alertas</th>\n",
       "    </tr>\n",
       "  </thead>\n",
       "  <tbody>\n",
       "    <tr>\n",
       "      <th>0</th>\n",
       "      <td>Conta Corrente</td>\n",
       "      <td>2228</td>\n",
       "    </tr>\n",
       "    <tr>\n",
       "      <th>1</th>\n",
       "      <td>Empréstimos</td>\n",
       "      <td>477</td>\n",
       "    </tr>\n",
       "    <tr>\n",
       "      <th>2</th>\n",
       "      <td>Corretora</td>\n",
       "      <td>4470</td>\n",
       "    </tr>\n",
       "    <tr>\n",
       "      <th>3</th>\n",
       "      <td>Fundos</td>\n",
       "      <td>277</td>\n",
       "    </tr>\n",
       "    <tr>\n",
       "      <th>4</th>\n",
       "      <td>CDB</td>\n",
       "      <td>19</td>\n",
       "    </tr>\n",
       "  </tbody>\n",
       "</table>\n",
       "</div>"
      ],
      "text/plain": [
       "       nm_produto  Qtd_alertas\n",
       "0  Conta Corrente         2228\n",
       "1     Empréstimos          477\n",
       "2       Corretora         4470\n",
       "3          Fundos          277\n",
       "4             CDB           19"
      ]
     },
     "execution_count": 3,
     "metadata": {},
     "output_type": "execute_result"
    }
   ],
   "source": [
    "dados.head(10)"
   ]
  },
  {
   "cell_type": "code",
   "execution_count": 4,
   "id": "c6787c1b",
   "metadata": {},
   "outputs": [],
   "source": [
    "#Importando biblioteca Matplotlib\n",
    "\n",
    "import matplotlib.pyplot as plt\n",
    "\n",
    "%matplotlib inline"
   ]
  },
  {
   "cell_type": "code",
   "execution_count": 5,
   "id": "92f48c3a",
   "metadata": {},
   "outputs": [],
   "source": [
    "x = dados['nm_produto']\n",
    "y = dados['Qtd_alertas']"
   ]
  },
  {
   "cell_type": "code",
   "execution_count": 6,
   "id": "804dcb37",
   "metadata": {},
   "outputs": [
    {
     "data": {
      "text/plain": [
       "<matplotlib.collections.PathCollection at 0x1ff57682a60>"
      ]
     },
     "execution_count": 6,
     "metadata": {},
     "output_type": "execute_result"
    },
    {
     "data": {
      "image/png": "[encoded data removed]",
      "text/plain": [
       "<Figure size 640x480 with 1 Axes>"
      ]
     },
     "metadata": {},
     "output_type": "display_data"
    }
   ],
   "source": [
    "plt.xlabel('Produtos', c=\"blue\")\n",
    "plt.ylabel('Quantidade de Alertas', c=\"blue\")\n",
    "plt.title('Relação entre Quantidade de Alertas por Produto', color = \"blue\", fontsize = 25)\n",
    "plt.plot(x,y, c = \"blue\", ls = \"-\", lw = 2, marker = 'o', ms = 10, fillstyle = \"top\", mfc = \"blue\",\n",
    "        label = \"Primeiro\")\n",
    "plt.scatter(x, y, c=\"blue\", ls = \"-\", lw = 1, marker = \"o\")"
   ]
  }
 ],
 "metadata": {
  "kernelspec": {
   "display_name": "Python 3 (ipykernel)",
   "language": "python",
   "name": "python3"
  },
  "language_info": {
   "codemirror_mode": {
    "name": "ipython",
    "version": 3
   },
   "file_extension": ".py",
   "mimetype": "text/x-python",
   "name": "python",
   "nbconvert_exporter": "python",
   "pygments_lexer": "ipython3",
   "version": "3.9.13"
  }
 },
 "nbformat": 4,
 "nbformat_minor": 5
}
