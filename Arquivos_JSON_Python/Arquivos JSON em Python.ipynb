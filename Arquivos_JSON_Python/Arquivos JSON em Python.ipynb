{
 "cells": [
  {
   "cell_type": "markdown",
   "id": "00b55b61",
   "metadata": {},
   "source": [
    "# <span style=\"color:#8B008B;\"> Arquivos Json </span>\n",
    "\n",
    " - Explicar o que é o formato JSON\n",
    " \n",
    " - Descrever as principais características do formato JSON\n",
    " \n",
    " - Detalhar o que é um arquivo do tipo chave: valor\n",
    " \n",
    " - Enumerar as diferenças principais de JSON e arquivos tabulares\n",
    " \n",
    " - Ler, converter e gravar arquivos JSON"
   ]
  },
  {
   "cell_type": "markdown",
   "id": "8d9b2be9",
   "metadata": {},
   "source": [
    "### <span style=\"color:#8B008B;\"> Conceitos Básicos </span>\n",
    "\n",
    "- JavaScript Object Notation: notação de objeto Javascript\n",
    "\n",
    "- Criado para facilitar transferencia de informações entre tecnologias diferentes\n",
    "\n",
    "- Muito usado em APIs(tanto como requisições quanto respostas)\n",
    "\n",
    "- Utilizado em arquivos de configuração, fixtures, e outras formas de representação de dados\n",
    "\n",
    "- Mais que um \"arquivo\", é um formato utilizado por diferentes tecnologias\n",
    "\n",
    "- Tem estrutura hierárquica, diferentes de arquivos tabulares, como CSV ou parquet\n",
    "\n",
    "- Se tornou um padrão de Fato\n",
    "\n",
    "- Json armazena pares de chave:valor\n",
    "\n",
    "- Diferente do esquema \"linhas e colunas\"\n",
    "</br>\n",
    "\n",
    "### Exemplo:\n",
    "\n",
    " {</br>\n",
    "  \"banda\":<span style=\"color:#808080;\">\"Radiohead\"</span>  \n",
    " }"
   ]
  },
  {
   "cell_type": "markdown",
   "id": "abaaf4af",
   "metadata": {},
   "source": [
    "- Mas ... o valor pode ser uma lista de elementos\n",
    "</br>\n",
    "<b>Ex:</b>\n",
    "\n",
    " {\n",
    "   \"bandas\":[</br>\n",
    "     &nbsp;&nbsp;&nbsp;{</br>\n",
    "     &nbsp;&nbsp;&nbsp;&nbsp;&nbsp;&nbsp;\"nome\":<span style=\"color:#808080;\">\"Radiohead\".</span></br>\n",
    "     &nbsp;&nbsp;&nbsp;&nbsp;&nbsp;&nbsp;\"melhor_album\":<span style=\"color:#808080;\">\"Ok Computer\".</span></br>\n",
    "   &nbsp;&nbsp;&nbsp;},</br>\n",
    "     &nbsp;&nbsp;&nbsp;{</br>\n",
    "     &nbsp;&nbsp;&nbsp;&nbsp;&nbsp;&nbsp;\"nome\":<span style=\"color:#808080;\">\"Beach House\".</span></br>\n",
    "     &nbsp;&nbsp;&nbsp;&nbsp;&nbsp;&nbsp;\"melhor_album\":<span style=\"color:#808080;\">\"Depression Cherry\".</span></br>\n",
    "   &nbsp;&nbsp;&nbsp;},</br>\n",
    "   &nbsp;&nbsp;]</br>\n",
    " }"
   ]
  },
  {
   "cell_type": "markdown",
   "id": "dc6ae535",
   "metadata": {},
   "source": [
    "### <span style=\"color:#8B008B;\"> Python </span>"
   ]
  },
  {
   "cell_type": "markdown",
   "id": "b43f1373",
   "metadata": {},
   "source": [
    "- Pacote json\n",
    "-- load: \"carrega\" o arquivo json para objeto python\n",
    "-- dump: \"descarrega\" objeto python num arquivo json\n",
    "\n",
    "<b>-Pandas</b>\n",
    "\n",
    "read_json </br>\n",
    "to_json </br>\n",
    "json_normalize"
   ]
  },
  {
   "cell_type": "markdown",
   "id": "66dbb254",
   "metadata": {},
   "source": [
    "### <span style=\"color:#8B008B;\"> Dicionário JSON </span>"
   ]
  },
  {
   "cell_type": "markdown",
   "id": "ea19e7fd",
   "metadata": {},
   "source": [
    "Um dicionário em JSON (JavaScript Object Notation) é uma estrutura de dados que permite armazenar pares de chave-valor. JSON é um formato leve e de fácil leitura usado para troca de dados entre sistemas e é frequentemente utilizado em serviços de API(Interface de Programação de Aplicações) e comunicação entre aplicações web.\n",
    "\n",
    "Em um dicionário JSON, as chaves(keys) são strings que atuam como identificadores únicos para os valores associados a elas. Cada chave é sequida por um dois-pontos\":\" e o valor associado a essa chave. O valor pode ser diferentes tipos de dados, como strings, numeros, booleanos, arrays(listas) ou até mesmo outros dicionários(objetos aninhados)."
   ]
  },
  {
   "cell_type": "markdown",
   "id": "f846ea2f",
   "metadata": {},
   "source": [
    "![Descrição da imagem](01_JSON_Python.GIF)"
   ]
  },
  {
   "cell_type": "markdown",
   "id": "a4f96158",
   "metadata": {},
   "source": [
    "[Link para Documentação do Python](https://docs.python.org/3/library/json.html)"
   ]
  },
  {
   "cell_type": "code",
   "execution_count": 1,
   "id": "eea62f13",
   "metadata": {},
   "outputs": [],
   "source": [
    "import json\n",
    "import pandas as pd"
   ]
  },
  {
   "cell_type": "markdown",
   "id": "9e1ea50d",
   "metadata": {},
   "source": [
    "## <a> Encode/Decode </a>\n",
    "\n",
    "Funcionalidades:\n",
    "- Carregar (load/decode) = transformar string/arquivo json para objeto python\n",
    "- Descarregar (dump/encode) = transformar objeto python em json (string ou arquivo)\n",
    "\n",
    "Stream:\n",
    "- Arquivo: dump, load\n",
    "- String: dumps, loads (dump string e load string)"
   ]
  },
  {
   "cell_type": "markdown",
   "id": "16b9654b",
   "metadata": {},
   "source": [
    "### <a> Arquivos </a>"
   ]
  },
  {
   "cell_type": "code",
   "execution_count": 2,
   "id": "f2960fb9",
   "metadata": {},
   "outputs": [
    {
     "data": {
      "text/plain": [
       "[{'name': 'Radiohead',\n",
       "  'albums': [{'title': 'The King of Limbs',\n",
       "    'songs': [{'title': 'Bloom', 'length': '5:15'},\n",
       "     {'title': 'Morning Mr Magpie', 'length': '4:41'},\n",
       "     {'title': 'Little by Little', 'length': '4:27'},\n",
       "     {'title': 'Feral', 'length': '3:13'},\n",
       "     {'title': 'Lotus Flower', 'length': '5:01'},\n",
       "     {'title': 'Codex', 'length': '4:47'},\n",
       "     {'title': 'Give Up the Ghost', 'length': '4:50'},\n",
       "     {'title': 'Separator', 'length': '5:20'}],\n",
       "    'description': '\\n\\tThe King of Limbs is the eighth studio album by English rock band Radiohead, produced by Nigel Godrich. It was self-released on 18 February 2011 as a download in MP3 and WAV formats, followed by physical CD and 12\" vinyl releases on 28 March, a wider digital release via AWAL, and a special \"newspaper\" edition on 9 May 2011. The physical editions were released through the band\\'s Ticker Tape imprint on XL in the United Kingdom, TBD in the United States, and Hostess Entertainment in Japan.\\n      '},\n",
       "   {'title': 'OK Computer',\n",
       "    'songs': [{'title': 'Airbag', 'length': '4:44'},\n",
       "     {'title': 'Paranoid Android', 'length': '6:23'},\n",
       "     {'title': 'Subterranean Homesick Alien', 'length': '4:27'},\n",
       "     {'title': 'Exit Music (For a Film)', 'length': '4:24'},\n",
       "     {'title': 'Let Down', 'length': '4:59'},\n",
       "     {'title': 'Karma Police', 'length': '4:21'},\n",
       "     {'title': 'Fitter Happier', 'length': '1:57'},\n",
       "     {'title': 'Electioneering', 'length': '3:50'},\n",
       "     {'title': 'Climbing Up the Walls', 'length': '4:45'},\n",
       "     {'title': 'No Surprises', 'length': '3:48'},\n",
       "     {'title': 'Lucky', 'length': '4:19'},\n",
       "     {'title': 'The Tourist', 'length': '5:24'}],\n",
       "    'description': \"\\n\\tOK Computer is the third studio album by the English alternative rock band Radiohead, released on 16 June 1997 on Parlophone in the United Kingdom and 1 July 1997 by Capitol Records in the United States. It marks a deliberate attempt by the band to move away from the introspective guitar-oriented sound of their previous album The Bends. Its layered sound and wide range of influences set it apart from many of the Britpop and alternative rock bands popular at the time and laid the groundwork for Radiohead's later, more experimental work.\\n      \"}]},\n",
       " {'name': 'Portishead',\n",
       "  'albums': [{'title': 'Dummy',\n",
       "    'songs': [{'title': 'Mysterons', 'length': '5:02'},\n",
       "     {'title': 'Sour Times', 'length': '4:11'},\n",
       "     {'title': 'Strangers', 'length': '3:55'},\n",
       "     {'title': 'It Could Be Sweet', 'length': '4:16'},\n",
       "     {'title': 'Wandering Star', 'length': '4:51'},\n",
       "     {'title': \"It's a Fire\", 'length': '3:49'},\n",
       "     {'title': 'Numb', 'length': '3:54'},\n",
       "     {'title': 'Roads', 'length': '5:02'},\n",
       "     {'title': 'Pedestal', 'length': '3:39'},\n",
       "     {'title': 'Biscuit', 'length': '5:01'},\n",
       "     {'title': 'Glory Box', 'length': '5:06'}],\n",
       "    'description': '\\n\\tDummy is the debut album of the Bristol-based group Portishead. Released in August 22, 1994 on Go! Discs, the album earned critical acclaim, winning the 1995 Mercury Music Prize. It is often credited with popularizing the trip-hop genre and is frequently cited in lists of the best albums of the 1990s. Although it achieved modest chart success overseas, it peaked at #2 on the UK Album Chart and saw two of its three singles reach #13. The album was certified gold in 1997 and has sold two million copies in Europe. As of September 2011, the album was certified double-platinum in the United Kingdom and has sold as of September 2011 825,000 copies.\\n      '},\n",
       "   {'title': 'Third',\n",
       "    'songs': [{'title': 'Silence', 'length': '4:58'},\n",
       "     {'title': 'Hunter', 'length': '3:57'},\n",
       "     {'title': 'Nylon Smile', 'length': '3:16'},\n",
       "     {'title': 'The Rip', 'length': '4:29'},\n",
       "     {'title': 'Plastic', 'length': '3:27'},\n",
       "     {'title': 'We Carry On', 'length': '6:27'},\n",
       "     {'title': 'Deep Water', 'length': '1:31'},\n",
       "     {'title': 'Machine Gun', 'length': '4:43'},\n",
       "     {'title': 'Small', 'length': '6:45'},\n",
       "     {'title': 'Magic Doors', 'length': '3:32'},\n",
       "     {'title': 'Threads', 'length': '5:45'}],\n",
       "    'description': \"\\n\\tThird is the third studio album by English musical group Portishead, released on 27 April 2008, on Island Records in the United Kingdom, two days after on Mercury Records in the United States, and on 30 April 2008 on Universal Music Japan in Japan. It is their first release in 10 years, and their first studio album in eleven years. Third entered the UK Album Chart at #2, and became the band's first-ever American Top 10 album on the Billboard 200, reaching #7 in its entry week.\\n      \"}]}]"
      ]
     },
     "execution_count": 2,
     "metadata": {},
     "output_type": "execute_result"
    }
   ],
   "source": [
    "# Lendo arquivos JSON, ou seja, carregar/decodificar/decode\n",
    "# Arquivo original disponivel em https://gist.github.com/jasonbaldridge/2668632\n",
    "\n",
    "with open('bands.json') as arquivo_json:\n",
    "    # objeto python recebendo o carregamento de um arquivo json\n",
    "    objeto_json = json.load(arquivo_json)\n",
    "    \n",
    "objeto_json    "
   ]
  },
  {
   "cell_type": "code",
   "execution_count": 5,
   "id": "e935582e",
   "metadata": {},
   "outputs": [
    {
     "data": {
      "text/plain": [
       "list"
      ]
     },
     "execution_count": 5,
     "metadata": {},
     "output_type": "execute_result"
    }
   ],
   "source": [
    "type(objeto_json) # Quando o arquivo começa com [ é uma lista"
   ]
  },
  {
   "cell_type": "code",
   "execution_count": 6,
   "id": "0cd05384",
   "metadata": {},
   "outputs": [
    {
     "data": {
      "text/plain": [
       "{'name': 'Radiohead',\n",
       " 'albums': [{'title': 'The King of Limbs',\n",
       "   'songs': [{'title': 'Bloom', 'length': '5:15'},\n",
       "    {'title': 'Morning Mr Magpie', 'length': '4:41'},\n",
       "    {'title': 'Little by Little', 'length': '4:27'},\n",
       "    {'title': 'Feral', 'length': '3:13'},\n",
       "    {'title': 'Lotus Flower', 'length': '5:01'},\n",
       "    {'title': 'Codex', 'length': '4:47'},\n",
       "    {'title': 'Give Up the Ghost', 'length': '4:50'},\n",
       "    {'title': 'Separator', 'length': '5:20'}],\n",
       "   'description': '\\n\\tThe King of Limbs is the eighth studio album by English rock band Radiohead, produced by Nigel Godrich. It was self-released on 18 February 2011 as a download in MP3 and WAV formats, followed by physical CD and 12\" vinyl releases on 28 March, a wider digital release via AWAL, and a special \"newspaper\" edition on 9 May 2011. The physical editions were released through the band\\'s Ticker Tape imprint on XL in the United Kingdom, TBD in the United States, and Hostess Entertainment in Japan.\\n      '},\n",
       "  {'title': 'OK Computer',\n",
       "   'songs': [{'title': 'Airbag', 'length': '4:44'},\n",
       "    {'title': 'Paranoid Android', 'length': '6:23'},\n",
       "    {'title': 'Subterranean Homesick Alien', 'length': '4:27'},\n",
       "    {'title': 'Exit Music (For a Film)', 'length': '4:24'},\n",
       "    {'title': 'Let Down', 'length': '4:59'},\n",
       "    {'title': 'Karma Police', 'length': '4:21'},\n",
       "    {'title': 'Fitter Happier', 'length': '1:57'},\n",
       "    {'title': 'Electioneering', 'length': '3:50'},\n",
       "    {'title': 'Climbing Up the Walls', 'length': '4:45'},\n",
       "    {'title': 'No Surprises', 'length': '3:48'},\n",
       "    {'title': 'Lucky', 'length': '4:19'},\n",
       "    {'title': 'The Tourist', 'length': '5:24'}],\n",
       "   'description': \"\\n\\tOK Computer is the third studio album by the English alternative rock band Radiohead, released on 16 June 1997 on Parlophone in the United Kingdom and 1 July 1997 by Capitol Records in the United States. It marks a deliberate attempt by the band to move away from the introspective guitar-oriented sound of their previous album The Bends. Its layered sound and wide range of influences set it apart from many of the Britpop and alternative rock bands popular at the time and laid the groundwork for Radiohead's later, more experimental work.\\n      \"}]}"
      ]
     },
     "execution_count": 6,
     "metadata": {},
     "output_type": "execute_result"
    }
   ],
   "source": [
    "objeto_json[0] # Verifica o primeiro objeto da Lista"
   ]
  },
  {
   "cell_type": "code",
   "execution_count": 7,
   "id": "b5c2096c",
   "metadata": {},
   "outputs": [
    {
     "data": {
      "text/plain": [
       "'Radiohead'"
      ]
     },
     "execution_count": 7,
     "metadata": {},
     "output_type": "execute_result"
    }
   ],
   "source": [
    "objeto_json[0]['name'] # Verifica o primeiro objeto da Lista e primeiro dicionario"
   ]
  },
  {
   "cell_type": "code",
   "execution_count": 10,
   "id": "e8fc1155",
   "metadata": {},
   "outputs": [
    {
     "data": {
      "text/plain": [
       "'Portishead'"
      ]
     },
     "execution_count": 10,
     "metadata": {},
     "output_type": "execute_result"
    }
   ],
   "source": [
    "objeto_json[1]['name']"
   ]
  },
  {
   "cell_type": "code",
   "execution_count": 12,
   "id": "1957d61d",
   "metadata": {},
   "outputs": [
    {
     "data": {
      "text/plain": [
       "[{'title': 'The King of Limbs',\n",
       "  'songs': [{'title': 'Bloom', 'length': '5:15'},\n",
       "   {'title': 'Morning Mr Magpie', 'length': '4:41'},\n",
       "   {'title': 'Little by Little', 'length': '4:27'},\n",
       "   {'title': 'Feral', 'length': '3:13'},\n",
       "   {'title': 'Lotus Flower', 'length': '5:01'},\n",
       "   {'title': 'Codex', 'length': '4:47'},\n",
       "   {'title': 'Give Up the Ghost', 'length': '4:50'},\n",
       "   {'title': 'Separator', 'length': '5:20'}],\n",
       "  'description': '\\n\\tThe King of Limbs is the eighth studio album by English rock band Radiohead, produced by Nigel Godrich. It was self-released on 18 February 2011 as a download in MP3 and WAV formats, followed by physical CD and 12\" vinyl releases on 28 March, a wider digital release via AWAL, and a special \"newspaper\" edition on 9 May 2011. The physical editions were released through the band\\'s Ticker Tape imprint on XL in the United Kingdom, TBD in the United States, and Hostess Entertainment in Japan.\\n      '},\n",
       " {'title': 'OK Computer',\n",
       "  'songs': [{'title': 'Airbag', 'length': '4:44'},\n",
       "   {'title': 'Paranoid Android', 'length': '6:23'},\n",
       "   {'title': 'Subterranean Homesick Alien', 'length': '4:27'},\n",
       "   {'title': 'Exit Music (For a Film)', 'length': '4:24'},\n",
       "   {'title': 'Let Down', 'length': '4:59'},\n",
       "   {'title': 'Karma Police', 'length': '4:21'},\n",
       "   {'title': 'Fitter Happier', 'length': '1:57'},\n",
       "   {'title': 'Electioneering', 'length': '3:50'},\n",
       "   {'title': 'Climbing Up the Walls', 'length': '4:45'},\n",
       "   {'title': 'No Surprises', 'length': '3:48'},\n",
       "   {'title': 'Lucky', 'length': '4:19'},\n",
       "   {'title': 'The Tourist', 'length': '5:24'}],\n",
       "  'description': \"\\n\\tOK Computer is the third studio album by the English alternative rock band Radiohead, released on 16 June 1997 on Parlophone in the United Kingdom and 1 July 1997 by Capitol Records in the United States. It marks a deliberate attempt by the band to move away from the introspective guitar-oriented sound of their previous album The Bends. Its layered sound and wide range of influences set it apart from many of the Britpop and alternative rock bands popular at the time and laid the groundwork for Radiohead's later, more experimental work.\\n      \"}]"
      ]
     },
     "execution_count": 12,
     "metadata": {},
     "output_type": "execute_result"
    }
   ],
   "source": [
    "objeto_json[0]['albums'] "
   ]
  },
  {
   "cell_type": "code",
   "execution_count": 13,
   "id": "adabb5c5",
   "metadata": {},
   "outputs": [
    {
     "data": {
      "text/plain": [
       "list"
      ]
     },
     "execution_count": 13,
     "metadata": {},
     "output_type": "execute_result"
    }
   ],
   "source": [
    "type(objeto_json[0]['albums']) # Arrays são transformados em listas"
   ]
  },
  {
   "cell_type": "code",
   "execution_count": 16,
   "id": "153b9b68",
   "metadata": {},
   "outputs": [
    {
     "data": {
      "text/plain": [
       "{'title': 'The King of Limbs',\n",
       " 'songs': [{'title': 'Bloom', 'length': '5:15'},\n",
       "  {'title': 'Morning Mr Magpie', 'length': '4:41'},\n",
       "  {'title': 'Little by Little', 'length': '4:27'},\n",
       "  {'title': 'Feral', 'length': '3:13'},\n",
       "  {'title': 'Lotus Flower', 'length': '5:01'},\n",
       "  {'title': 'Codex', 'length': '4:47'},\n",
       "  {'title': 'Give Up the Ghost', 'length': '4:50'},\n",
       "  {'title': 'Separator', 'length': '5:20'}],\n",
       " 'description': '\\n\\tThe King of Limbs is the eighth studio album by English rock band Radiohead, produced by Nigel Godrich. It was self-released on 18 February 2011 as a download in MP3 and WAV formats, followed by physical CD and 12\" vinyl releases on 28 March, a wider digital release via AWAL, and a special \"newspaper\" edition on 9 May 2011. The physical editions were released through the band\\'s Ticker Tape imprint on XL in the United Kingdom, TBD in the United States, and Hostess Entertainment in Japan.\\n      '}"
      ]
     },
     "execution_count": 16,
     "metadata": {},
     "output_type": "execute_result"
    }
   ],
   "source": [
    "# Acessando o primeiro album da primeira banda.\n",
    "\n",
    "objeto_json[0]['albums'][0]"
   ]
  },
  {
   "cell_type": "code",
   "execution_count": 17,
   "id": "92f9a08e",
   "metadata": {},
   "outputs": [
    {
     "data": {
      "text/plain": [
       "{'title': 'OK Computer',\n",
       " 'songs': [{'title': 'Airbag', 'length': '4:44'},\n",
       "  {'title': 'Paranoid Android', 'length': '6:23'},\n",
       "  {'title': 'Subterranean Homesick Alien', 'length': '4:27'},\n",
       "  {'title': 'Exit Music (For a Film)', 'length': '4:24'},\n",
       "  {'title': 'Let Down', 'length': '4:59'},\n",
       "  {'title': 'Karma Police', 'length': '4:21'},\n",
       "  {'title': 'Fitter Happier', 'length': '1:57'},\n",
       "  {'title': 'Electioneering', 'length': '3:50'},\n",
       "  {'title': 'Climbing Up the Walls', 'length': '4:45'},\n",
       "  {'title': 'No Surprises', 'length': '3:48'},\n",
       "  {'title': 'Lucky', 'length': '4:19'},\n",
       "  {'title': 'The Tourist', 'length': '5:24'}],\n",
       " 'description': \"\\n\\tOK Computer is the third studio album by the English alternative rock band Radiohead, released on 16 June 1997 on Parlophone in the United Kingdom and 1 July 1997 by Capitol Records in the United States. It marks a deliberate attempt by the band to move away from the introspective guitar-oriented sound of their previous album The Bends. Its layered sound and wide range of influences set it apart from many of the Britpop and alternative rock bands popular at the time and laid the groundwork for Radiohead's later, more experimental work.\\n      \"}"
      ]
     },
     "execution_count": 17,
     "metadata": {},
     "output_type": "execute_result"
    }
   ],
   "source": [
    "# Acessando o segundo album da primeira banda.\n",
    "\n",
    "objeto_json[0]['albums'][1]"
   ]
  },
  {
   "cell_type": "code",
   "execution_count": 18,
   "id": "8c1d1b4f",
   "metadata": {},
   "outputs": [
    {
     "data": {
      "text/plain": [
       "{'title': 'Dummy',\n",
       " 'songs': [{'title': 'Mysterons', 'length': '5:02'},\n",
       "  {'title': 'Sour Times', 'length': '4:11'},\n",
       "  {'title': 'Strangers', 'length': '3:55'},\n",
       "  {'title': 'It Could Be Sweet', 'length': '4:16'},\n",
       "  {'title': 'Wandering Star', 'length': '4:51'},\n",
       "  {'title': \"It's a Fire\", 'length': '3:49'},\n",
       "  {'title': 'Numb', 'length': '3:54'},\n",
       "  {'title': 'Roads', 'length': '5:02'},\n",
       "  {'title': 'Pedestal', 'length': '3:39'},\n",
       "  {'title': 'Biscuit', 'length': '5:01'},\n",
       "  {'title': 'Glory Box', 'length': '5:06'}],\n",
       " 'description': '\\n\\tDummy is the debut album of the Bristol-based group Portishead. Released in August 22, 1994 on Go! Discs, the album earned critical acclaim, winning the 1995 Mercury Music Prize. It is often credited with popularizing the trip-hop genre and is frequently cited in lists of the best albums of the 1990s. Although it achieved modest chart success overseas, it peaked at #2 on the UK Album Chart and saw two of its three singles reach #13. The album was certified gold in 1997 and has sold two million copies in Europe. As of September 2011, the album was certified double-platinum in the United Kingdom and has sold as of September 2011 825,000 copies.\\n      '}"
      ]
     },
     "execution_count": 18,
     "metadata": {},
     "output_type": "execute_result"
    }
   ],
   "source": [
    "# Acessando o primeiro album da segunda banda.\n",
    "\n",
    "objeto_json[1]['albums'][0]"
   ]
  },
  {
   "cell_type": "code",
   "execution_count": 19,
   "id": "b8948a54",
   "metadata": {},
   "outputs": [
    {
     "data": {
      "text/plain": [
       "{'title': 'Third',\n",
       " 'songs': [{'title': 'Silence', 'length': '4:58'},\n",
       "  {'title': 'Hunter', 'length': '3:57'},\n",
       "  {'title': 'Nylon Smile', 'length': '3:16'},\n",
       "  {'title': 'The Rip', 'length': '4:29'},\n",
       "  {'title': 'Plastic', 'length': '3:27'},\n",
       "  {'title': 'We Carry On', 'length': '6:27'},\n",
       "  {'title': 'Deep Water', 'length': '1:31'},\n",
       "  {'title': 'Machine Gun', 'length': '4:43'},\n",
       "  {'title': 'Small', 'length': '6:45'},\n",
       "  {'title': 'Magic Doors', 'length': '3:32'},\n",
       "  {'title': 'Threads', 'length': '5:45'}],\n",
       " 'description': \"\\n\\tThird is the third studio album by English musical group Portishead, released on 27 April 2008, on Island Records in the United Kingdom, two days after on Mercury Records in the United States, and on 30 April 2008 on Universal Music Japan in Japan. It is their first release in 10 years, and their first studio album in eleven years. Third entered the UK Album Chart at #2, and became the band's first-ever American Top 10 album on the Billboard 200, reaching #7 in its entry week.\\n      \"}"
      ]
     },
     "execution_count": 19,
     "metadata": {},
     "output_type": "execute_result"
    }
   ],
   "source": [
    "# Acessando o segundo album da segunda banda.\n",
    "\n",
    "objeto_json[1]['albums'][1] # Para localizar dicionário eu utilizo a chave, para localizar lista utilizo o indice"
   ]
  },
  {
   "cell_type": "code",
   "execution_count": 20,
   "id": "30d9fcb4",
   "metadata": {},
   "outputs": [
    {
     "data": {
      "text/plain": [
       "'The King of Limbs'"
      ]
     },
     "execution_count": 20,
     "metadata": {},
     "output_type": "execute_result"
    }
   ],
   "source": [
    "# Para localizar dicionário eu utilizo a chave, para localizar lista utilizo o indice\n",
    "\n",
    "# Acessando o primeiro titulo do primeiro album da primeira banda\n",
    "\n",
    "objeto_json[0]['albums'][0]['title'] "
   ]
  },
  {
   "cell_type": "code",
   "execution_count": 21,
   "id": "6884cefa",
   "metadata": {},
   "outputs": [
    {
     "data": {
      "text/plain": [
       "[{'title': 'Bloom', 'length': '5:15'},\n",
       " {'title': 'Morning Mr Magpie', 'length': '4:41'},\n",
       " {'title': 'Little by Little', 'length': '4:27'},\n",
       " {'title': 'Feral', 'length': '3:13'},\n",
       " {'title': 'Lotus Flower', 'length': '5:01'},\n",
       " {'title': 'Codex', 'length': '4:47'},\n",
       " {'title': 'Give Up the Ghost', 'length': '4:50'},\n",
       " {'title': 'Separator', 'length': '5:20'}]"
      ]
     },
     "execution_count": 21,
     "metadata": {},
     "output_type": "execute_result"
    }
   ],
   "source": [
    "# Acessando as musicas do primeiro album da primeira banda\n",
    "\n",
    "objeto_json[0]['albums'][0]['songs'] "
   ]
  },
  {
   "cell_type": "code",
   "execution_count": 22,
   "id": "592ee248",
   "metadata": {},
   "outputs": [
    {
     "data": {
      "text/plain": [
       "{'title': 'Morning Mr Magpie', 'length': '4:41'}"
      ]
     },
     "execution_count": 22,
     "metadata": {},
     "output_type": "execute_result"
    }
   ],
   "source": [
    "# Para saber a segunda musica do primeiro album\n",
    "\n",
    "objeto_json[0]['albums'][0]['songs'][1] "
   ]
  },
  {
   "cell_type": "code",
   "execution_count": 23,
   "id": "d2c549e9",
   "metadata": {},
   "outputs": [
    {
     "data": {
      "text/plain": [
       "{'title': 'OK Computer',\n",
       " 'songs': [{'title': 'Airbag', 'length': '4:44'},\n",
       "  {'title': 'Paranoid Android', 'length': '6:23'},\n",
       "  {'title': 'Subterranean Homesick Alien', 'length': '4:27'},\n",
       "  {'title': 'Exit Music (For a Film)', 'length': '4:24'},\n",
       "  {'title': 'Let Down', 'length': '4:59'},\n",
       "  {'title': 'Karma Police', 'length': '4:21'},\n",
       "  {'title': 'Fitter Happier', 'length': '1:57'},\n",
       "  {'title': 'Electioneering', 'length': '3:50'},\n",
       "  {'title': 'Climbing Up the Walls', 'length': '4:45'},\n",
       "  {'title': 'No Surprises', 'length': '3:48'},\n",
       "  {'title': 'Lucky', 'length': '4:19'},\n",
       "  {'title': 'The Tourist', 'length': '5:24'}],\n",
       " 'description': \"\\n\\tOK Computer is the third studio album by the English alternative rock band Radiohead, released on 16 June 1997 on Parlophone in the United Kingdom and 1 July 1997 by Capitol Records in the United States. It marks a deliberate attempt by the band to move away from the introspective guitar-oriented sound of their previous album The Bends. Its layered sound and wide range of influences set it apart from many of the Britpop and alternative rock bands popular at the time and laid the groundwork for Radiohead's later, more experimental work.\\n      \"}"
      ]
     },
     "execution_count": 23,
     "metadata": {},
     "output_type": "execute_result"
    }
   ],
   "source": [
    "objeto_json[0]['albums'][1]"
   ]
  },
  {
   "cell_type": "code",
   "execution_count": 24,
   "id": "5bf4d357",
   "metadata": {},
   "outputs": [
    {
     "data": {
      "text/plain": [
       "{'title': 'Airbag', 'length': '4:44'}"
      ]
     },
     "execution_count": 24,
     "metadata": {},
     "output_type": "execute_result"
    }
   ],
   "source": [
    "objeto_json[0]['albums'][1]['songs'][0]"
   ]
  },
  {
   "cell_type": "code",
   "execution_count": 25,
   "id": "78be596e",
   "metadata": {},
   "outputs": [],
   "source": [
    "# Vamos remover Airbag do Ok Computer\n",
    "\n",
    "del objeto_json[0]['albums'][1]['songs'][0]"
   ]
  },
  {
   "cell_type": "code",
   "execution_count": 27,
   "id": "85753308",
   "metadata": {},
   "outputs": [
    {
     "data": {
      "text/plain": [
       "[{'title': 'Paranoid Android', 'length': '6:23'},\n",
       " {'title': 'Subterranean Homesick Alien', 'length': '4:27'},\n",
       " {'title': 'Exit Music (For a Film)', 'length': '4:24'},\n",
       " {'title': 'Let Down', 'length': '4:59'},\n",
       " {'title': 'Karma Police', 'length': '4:21'},\n",
       " {'title': 'Fitter Happier', 'length': '1:57'},\n",
       " {'title': 'Electioneering', 'length': '3:50'},\n",
       " {'title': 'Climbing Up the Walls', 'length': '4:45'},\n",
       " {'title': 'No Surprises', 'length': '3:48'},\n",
       " {'title': 'Lucky', 'length': '4:19'},\n",
       " {'title': 'The Tourist', 'length': '5:24'}]"
      ]
     },
     "execution_count": 27,
     "metadata": {},
     "output_type": "execute_result"
    }
   ],
   "source": [
    "objeto_json[0]['albums'][1]['songs']"
   ]
  },
  {
   "cell_type": "code",
   "execution_count": 29,
   "id": "6f56eb58",
   "metadata": {},
   "outputs": [],
   "source": [
    "# Jogando o conteudo do objeto_json em um arquivo\n",
    "\n",
    "with open('bands_errado.json', 'w') as arquivo_errado:\n",
    "    json.dump(objeto_json, arquivo_errado)"
   ]
  },
  {
   "cell_type": "code",
   "execution_count": 30,
   "id": "416616be",
   "metadata": {},
   "outputs": [],
   "source": [
    "# Jogando o conteudo do objeto_json em um arquivo e identando\n",
    "\n",
    "with open('bands_errado.json', 'w') as arquivo_errado:\n",
    "    json.dump(objeto_json, arquivo_errado, indent=2)"
   ]
  },
  {
   "cell_type": "markdown",
   "id": "35bb3816",
   "metadata": {},
   "source": [
    "### <a> Strings </a>"
   ]
  },
  {
   "cell_type": "code",
   "execution_count": 31,
   "id": "a677235e",
   "metadata": {},
   "outputs": [
    {
     "data": {
      "text/plain": [
       "[{'name': 'Radiohead',\n",
       "  'albums': [{'title': 'The King of Limbs',\n",
       "    'songs': [{'title': 'Bloom', 'length': '5:15'},\n",
       "     {'title': 'Morning Mr Magpie', 'length': '4:41'},\n",
       "     {'title': 'Little by Little', 'length': '4:27'},\n",
       "     {'title': 'Feral', 'length': '3:13'},\n",
       "     {'title': 'Lotus Flower', 'length': '5:01'},\n",
       "     {'title': 'Codex', 'length': '4:47'},\n",
       "     {'title': 'Give Up the Ghost', 'length': '4:50'},\n",
       "     {'title': 'Separator', 'length': '5:20'}],\n",
       "    'description': '\\n\\tThe King of Limbs is the eighth studio album by English rock band Radiohead, produced by Nigel Godrich. It was self-released on 18 February 2011 as a download in MP3 and WAV formats, followed by physical CD and 12\" vinyl releases on 28 March, a wider digital release via AWAL, and a special \"newspaper\" edition on 9 May 2011. The physical editions were released through the band\\'s Ticker Tape imprint on XL in the United Kingdom, TBD in the United States, and Hostess Entertainment in Japan.\\n      '},\n",
       "   {'title': 'OK Computer',\n",
       "    'songs': [{'title': 'Paranoid Android', 'length': '6:23'},\n",
       "     {'title': 'Subterranean Homesick Alien', 'length': '4:27'},\n",
       "     {'title': 'Exit Music (For a Film)', 'length': '4:24'},\n",
       "     {'title': 'Let Down', 'length': '4:59'},\n",
       "     {'title': 'Karma Police', 'length': '4:21'},\n",
       "     {'title': 'Fitter Happier', 'length': '1:57'},\n",
       "     {'title': 'Electioneering', 'length': '3:50'},\n",
       "     {'title': 'Climbing Up the Walls', 'length': '4:45'},\n",
       "     {'title': 'No Surprises', 'length': '3:48'},\n",
       "     {'title': 'Lucky', 'length': '4:19'},\n",
       "     {'title': 'The Tourist', 'length': '5:24'}],\n",
       "    'description': \"\\n\\tOK Computer is the third studio album by the English alternative rock band Radiohead, released on 16 June 1997 on Parlophone in the United Kingdom and 1 July 1997 by Capitol Records in the United States. It marks a deliberate attempt by the band to move away from the introspective guitar-oriented sound of their previous album The Bends. Its layered sound and wide range of influences set it apart from many of the Britpop and alternative rock bands popular at the time and laid the groundwork for Radiohead's later, more experimental work.\\n      \"}]},\n",
       " {'name': 'Portishead',\n",
       "  'albums': [{'title': 'Dummy',\n",
       "    'songs': [{'title': 'Mysterons', 'length': '5:02'},\n",
       "     {'title': 'Sour Times', 'length': '4:11'},\n",
       "     {'title': 'Strangers', 'length': '3:55'},\n",
       "     {'title': 'It Could Be Sweet', 'length': '4:16'},\n",
       "     {'title': 'Wandering Star', 'length': '4:51'},\n",
       "     {'title': \"It's a Fire\", 'length': '3:49'},\n",
       "     {'title': 'Numb', 'length': '3:54'},\n",
       "     {'title': 'Roads', 'length': '5:02'},\n",
       "     {'title': 'Pedestal', 'length': '3:39'},\n",
       "     {'title': 'Biscuit', 'length': '5:01'},\n",
       "     {'title': 'Glory Box', 'length': '5:06'}],\n",
       "    'description': '\\n\\tDummy is the debut album of the Bristol-based group Portishead. Released in August 22, 1994 on Go! Discs, the album earned critical acclaim, winning the 1995 Mercury Music Prize. It is often credited with popularizing the trip-hop genre and is frequently cited in lists of the best albums of the 1990s. Although it achieved modest chart success overseas, it peaked at #2 on the UK Album Chart and saw two of its three singles reach #13. The album was certified gold in 1997 and has sold two million copies in Europe. As of September 2011, the album was certified double-platinum in the United Kingdom and has sold as of September 2011 825,000 copies.\\n      '},\n",
       "   {'title': 'Third',\n",
       "    'songs': [{'title': 'Silence', 'length': '4:58'},\n",
       "     {'title': 'Hunter', 'length': '3:57'},\n",
       "     {'title': 'Nylon Smile', 'length': '3:16'},\n",
       "     {'title': 'The Rip', 'length': '4:29'},\n",
       "     {'title': 'Plastic', 'length': '3:27'},\n",
       "     {'title': 'We Carry On', 'length': '6:27'},\n",
       "     {'title': 'Deep Water', 'length': '1:31'},\n",
       "     {'title': 'Machine Gun', 'length': '4:43'},\n",
       "     {'title': 'Small', 'length': '6:45'},\n",
       "     {'title': 'Magic Doors', 'length': '3:32'},\n",
       "     {'title': 'Threads', 'length': '5:45'}],\n",
       "    'description': \"\\n\\tThird is the third studio album by English musical group Portishead, released on 27 April 2008, on Island Records in the United Kingdom, two days after on Mercury Records in the United States, and on 30 April 2008 on Universal Music Japan in Japan. It is their first release in 10 years, and their first studio album in eleven years. Third entered the UK Album Chart at #2, and became the band's first-ever American Top 10 album on the Billboard 200, reaching #7 in its entry week.\\n      \"}]}]"
      ]
     },
     "execution_count": 31,
     "metadata": {},
     "output_type": "execute_result"
    }
   ],
   "source": [
    "objeto_json"
   ]
  },
  {
   "cell_type": "code",
   "execution_count": 32,
   "id": "901ed186",
   "metadata": {},
   "outputs": [
    {
     "data": {
      "text/plain": [
       "'[{\"name\": \"Radiohead\", \"albums\": [{\"title\": \"The King of Limbs\", \"songs\": [{\"title\": \"Bloom\", \"length\": \"5:15\"}, {\"title\": \"Morning Mr Magpie\", \"length\": \"4:41\"}, {\"title\": \"Little by Little\", \"length\": \"4:27\"}, {\"title\": \"Feral\", \"length\": \"3:13\"}, {\"title\": \"Lotus Flower\", \"length\": \"5:01\"}, {\"title\": \"Codex\", \"length\": \"4:47\"}, {\"title\": \"Give Up the Ghost\", \"length\": \"4:50\"}, {\"title\": \"Separator\", \"length\": \"5:20\"}], \"description\": \"\\\\n\\\\tThe King of Limbs is the eighth studio album by English rock band Radiohead, produced by Nigel Godrich. It was self-released on 18 February 2011 as a download in MP3 and WAV formats, followed by physical CD and 12\\\\\" vinyl releases on 28 March, a wider digital release via AWAL, and a special \\\\\"newspaper\\\\\" edition on 9 May 2011. The physical editions were released through the band\\'s Ticker Tape imprint on XL in the United Kingdom, TBD in the United States, and Hostess Entertainment in Japan.\\\\n      \"}, {\"title\": \"OK Computer\", \"songs\": [{\"title\": \"Paranoid Android\", \"length\": \"6:23\"}, {\"title\": \"Subterranean Homesick Alien\", \"length\": \"4:27\"}, {\"title\": \"Exit Music (For a Film)\", \"length\": \"4:24\"}, {\"title\": \"Let Down\", \"length\": \"4:59\"}, {\"title\": \"Karma Police\", \"length\": \"4:21\"}, {\"title\": \"Fitter Happier\", \"length\": \"1:57\"}, {\"title\": \"Electioneering\", \"length\": \"3:50\"}, {\"title\": \"Climbing Up the Walls\", \"length\": \"4:45\"}, {\"title\": \"No Surprises\", \"length\": \"3:48\"}, {\"title\": \"Lucky\", \"length\": \"4:19\"}, {\"title\": \"The Tourist\", \"length\": \"5:24\"}], \"description\": \"\\\\n\\\\tOK Computer is the third studio album by the English alternative rock band Radiohead, released on 16 June 1997 on Parlophone in the United Kingdom and 1 July 1997 by Capitol Records in the United States. It marks a deliberate attempt by the band to move away from the introspective guitar-oriented sound of their previous album The Bends. Its layered sound and wide range of influences set it apart from many of the Britpop and alternative rock bands popular at the time and laid the groundwork for Radiohead\\'s later, more experimental work.\\\\n      \"}]}, {\"name\": \"Portishead\", \"albums\": [{\"title\": \"Dummy\", \"songs\": [{\"title\": \"Mysterons\", \"length\": \"5:02\"}, {\"title\": \"Sour Times\", \"length\": \"4:11\"}, {\"title\": \"Strangers\", \"length\": \"3:55\"}, {\"title\": \"It Could Be Sweet\", \"length\": \"4:16\"}, {\"title\": \"Wandering Star\", \"length\": \"4:51\"}, {\"title\": \"It\\'s a Fire\", \"length\": \"3:49\"}, {\"title\": \"Numb\", \"length\": \"3:54\"}, {\"title\": \"Roads\", \"length\": \"5:02\"}, {\"title\": \"Pedestal\", \"length\": \"3:39\"}, {\"title\": \"Biscuit\", \"length\": \"5:01\"}, {\"title\": \"Glory Box\", \"length\": \"5:06\"}], \"description\": \"\\\\n\\\\tDummy is the debut album of the Bristol-based group Portishead. Released in August 22, 1994 on Go! Discs, the album earned critical acclaim, winning the 1995 Mercury Music Prize. It is often credited with popularizing the trip-hop genre and is frequently cited in lists of the best albums of the 1990s. Although it achieved modest chart success overseas, it peaked at #2 on the UK Album Chart and saw two of its three singles reach #13. The album was certified gold in 1997 and has sold two million copies in Europe. As of September 2011, the album was certified double-platinum in the United Kingdom and has sold as of September 2011 825,000 copies.\\\\n      \"}, {\"title\": \"Third\", \"songs\": [{\"title\": \"Silence\", \"length\": \"4:58\"}, {\"title\": \"Hunter\", \"length\": \"3:57\"}, {\"title\": \"Nylon Smile\", \"length\": \"3:16\"}, {\"title\": \"The Rip\", \"length\": \"4:29\"}, {\"title\": \"Plastic\", \"length\": \"3:27\"}, {\"title\": \"We Carry On\", \"length\": \"6:27\"}, {\"title\": \"Deep Water\", \"length\": \"1:31\"}, {\"title\": \"Machine Gun\", \"length\": \"4:43\"}, {\"title\": \"Small\", \"length\": \"6:45\"}, {\"title\": \"Magic Doors\", \"length\": \"3:32\"}, {\"title\": \"Threads\", \"length\": \"5:45\"}], \"description\": \"\\\\n\\\\tThird is the third studio album by English musical group Portishead, released on 27 April 2008, on Island Records in the United Kingdom, two days after on Mercury Records in the United States, and on 30 April 2008 on Universal Music Japan in Japan. It is their first release in 10 years, and their first studio album in eleven years. Third entered the UK Album Chart at #2, and became the band\\'s first-ever American Top 10 album on the Billboard 200, reaching #7 in its entry week.\\\\n      \"}]}]'"
      ]
     },
     "execution_count": 32,
     "metadata": {},
     "output_type": "execute_result"
    }
   ],
   "source": [
    "str_json = json.dumps(objeto_json)\n",
    "str_json"
   ]
  },
  {
   "cell_type": "code",
   "execution_count": 33,
   "id": "ebe2b432",
   "metadata": {},
   "outputs": [
    {
     "data": {
      "text/plain": [
       "[{'name': 'Radiohead',\n",
       "  'albums': [{'title': 'The King of Limbs',\n",
       "    'songs': [{'title': 'Bloom', 'length': '5:15'},\n",
       "     {'title': 'Morning Mr Magpie', 'length': '4:41'},\n",
       "     {'title': 'Little by Little', 'length': '4:27'},\n",
       "     {'title': 'Feral', 'length': '3:13'},\n",
       "     {'title': 'Lotus Flower', 'length': '5:01'},\n",
       "     {'title': 'Codex', 'length': '4:47'},\n",
       "     {'title': 'Give Up the Ghost', 'length': '4:50'},\n",
       "     {'title': 'Separator', 'length': '5:20'}],\n",
       "    'description': '\\n\\tThe King of Limbs is the eighth studio album by English rock band Radiohead, produced by Nigel Godrich. It was self-released on 18 February 2011 as a download in MP3 and WAV formats, followed by physical CD and 12\" vinyl releases on 28 March, a wider digital release via AWAL, and a special \"newspaper\" edition on 9 May 2011. The physical editions were released through the band\\'s Ticker Tape imprint on XL in the United Kingdom, TBD in the United States, and Hostess Entertainment in Japan.\\n      '},\n",
       "   {'title': 'OK Computer',\n",
       "    'songs': [{'title': 'Paranoid Android', 'length': '6:23'},\n",
       "     {'title': 'Subterranean Homesick Alien', 'length': '4:27'},\n",
       "     {'title': 'Exit Music (For a Film)', 'length': '4:24'},\n",
       "     {'title': 'Let Down', 'length': '4:59'},\n",
       "     {'title': 'Karma Police', 'length': '4:21'},\n",
       "     {'title': 'Fitter Happier', 'length': '1:57'},\n",
       "     {'title': 'Electioneering', 'length': '3:50'},\n",
       "     {'title': 'Climbing Up the Walls', 'length': '4:45'},\n",
       "     {'title': 'No Surprises', 'length': '3:48'},\n",
       "     {'title': 'Lucky', 'length': '4:19'},\n",
       "     {'title': 'The Tourist', 'length': '5:24'}],\n",
       "    'description': \"\\n\\tOK Computer is the third studio album by the English alternative rock band Radiohead, released on 16 June 1997 on Parlophone in the United Kingdom and 1 July 1997 by Capitol Records in the United States. It marks a deliberate attempt by the band to move away from the introspective guitar-oriented sound of their previous album The Bends. Its layered sound and wide range of influences set it apart from many of the Britpop and alternative rock bands popular at the time and laid the groundwork for Radiohead's later, more experimental work.\\n      \"}]},\n",
       " {'name': 'Portishead',\n",
       "  'albums': [{'title': 'Dummy',\n",
       "    'songs': [{'title': 'Mysterons', 'length': '5:02'},\n",
       "     {'title': 'Sour Times', 'length': '4:11'},\n",
       "     {'title': 'Strangers', 'length': '3:55'},\n",
       "     {'title': 'It Could Be Sweet', 'length': '4:16'},\n",
       "     {'title': 'Wandering Star', 'length': '4:51'},\n",
       "     {'title': \"It's a Fire\", 'length': '3:49'},\n",
       "     {'title': 'Numb', 'length': '3:54'},\n",
       "     {'title': 'Roads', 'length': '5:02'},\n",
       "     {'title': 'Pedestal', 'length': '3:39'},\n",
       "     {'title': 'Biscuit', 'length': '5:01'},\n",
       "     {'title': 'Glory Box', 'length': '5:06'}],\n",
       "    'description': '\\n\\tDummy is the debut album of the Bristol-based group Portishead. Released in August 22, 1994 on Go! Discs, the album earned critical acclaim, winning the 1995 Mercury Music Prize. It is often credited with popularizing the trip-hop genre and is frequently cited in lists of the best albums of the 1990s. Although it achieved modest chart success overseas, it peaked at #2 on the UK Album Chart and saw two of its three singles reach #13. The album was certified gold in 1997 and has sold two million copies in Europe. As of September 2011, the album was certified double-platinum in the United Kingdom and has sold as of September 2011 825,000 copies.\\n      '},\n",
       "   {'title': 'Third',\n",
       "    'songs': [{'title': 'Silence', 'length': '4:58'},\n",
       "     {'title': 'Hunter', 'length': '3:57'},\n",
       "     {'title': 'Nylon Smile', 'length': '3:16'},\n",
       "     {'title': 'The Rip', 'length': '4:29'},\n",
       "     {'title': 'Plastic', 'length': '3:27'},\n",
       "     {'title': 'We Carry On', 'length': '6:27'},\n",
       "     {'title': 'Deep Water', 'length': '1:31'},\n",
       "     {'title': 'Machine Gun', 'length': '4:43'},\n",
       "     {'title': 'Small', 'length': '6:45'},\n",
       "     {'title': 'Magic Doors', 'length': '3:32'},\n",
       "     {'title': 'Threads', 'length': '5:45'}],\n",
       "    'description': \"\\n\\tThird is the third studio album by English musical group Portishead, released on 27 April 2008, on Island Records in the United Kingdom, two days after on Mercury Records in the United States, and on 30 April 2008 on Universal Music Japan in Japan. It is their first release in 10 years, and their first studio album in eleven years. Third entered the UK Album Chart at #2, and became the band's first-ever American Top 10 album on the Billboard 200, reaching #7 in its entry week.\\n      \"}]}]"
      ]
     },
     "execution_count": 33,
     "metadata": {},
     "output_type": "execute_result"
    }
   ],
   "source": [
    "objeto_de_novo = json.loads(str_json)\n",
    "objeto_de_novo"
   ]
  },
  {
   "cell_type": "markdown",
   "id": "c5a3d6ce",
   "metadata": {},
   "source": [
    "## <a> Pandas </a>\n",
    "\n",
    "Podemos fazer algumas transformações para deixar os dados tabulares, ou mesmo dizer para o pandas como a gente quer que ele interprete os dados estruturados.\n",
    "\n",
    "No método read_json existe um parâmetro \"orient\" que possui as alternativas de valor:\n",
    "- 'split' : dicionarios com formato {index -> [indice], columns -> [colunas], data -> [valores]}\n",
    "\n",
    "- 'records' : listas com formato [{coluna -> valor}, ... , {coluna -> valor}]\n",
    "\n",
    "- 'columns' : dicionarios com formato {coluna -> {indice -> valor}}\n",
    "\n",
    "- 'values' : um arranjo com valores"
   ]
  },
  {
   "cell_type": "code",
   "execution_count": 38,
   "id": "7f308257",
   "metadata": {},
   "outputs": [
    {
     "data": {
      "text/plain": [
       "'{\"index\": [\"hamburguer\", \"alface\", \"queijo\", \"molho especial\", \"cebola\", \"picles\", \"p\\\\u00e3o com gergelim\"], \"columns\": [\"qtd\", \"calorias\"], \"data\": [[2, 120], [3, 1], [1, 100], [1, 100], [1, 10], [3, 8], [2, 80]]}'"
      ]
     },
     "execution_count": 38,
     "metadata": {},
     "output_type": "execute_result"
    }
   ],
   "source": [
    "# No split as chaves devem ter EXATAMENTE esses nomes: index, columns e data\n",
    "# 'split': dicionarios com formato {index -> [indice], columns -> [colunas], data -> [valores]}\n",
    "json_split = json.dumps({\n",
    "    \"index\": [\"hamburguer\",\"alface\",\"queijo\",\"molho especial\", \"cebola\", \"picles\", \"pão com gergelim\"],\n",
    "    \"columns\": [\"qtd\",\"calorias\"],\n",
    "    \"data\": [[2,120],[3,1],[1,100],[1,100], [1, 10], [3, 8], [2, 80]]\n",
    "})\n",
    "\n",
    "json_split"
   ]
  },
  {
   "cell_type": "code",
   "execution_count": 39,
   "id": "c3638530",
   "metadata": {},
   "outputs": [
    {
     "data": {
      "text/html": [
       "<div>\n",
       "<style scoped>\n",
       "    .dataframe tbody tr th:only-of-type {\n",
       "        vertical-align: middle;\n",
       "    }\n",
       "\n",
       "    .dataframe tbody tr th {\n",
       "        vertical-align: top;\n",
       "    }\n",
       "\n",
       "    .dataframe thead th {\n",
       "        text-align: right;\n",
       "    }\n",
       "</style>\n",
       "<table border=\"1\" class=\"dataframe\">\n",
       "  <thead>\n",
       "    <tr style=\"text-align: right;\">\n",
       "      <th></th>\n",
       "      <th>qtd</th>\n",
       "      <th>calorias</th>\n",
       "    </tr>\n",
       "  </thead>\n",
       "  <tbody>\n",
       "    <tr>\n",
       "      <th>hamburguer</th>\n",
       "      <td>2</td>\n",
       "      <td>120</td>\n",
       "    </tr>\n",
       "    <tr>\n",
       "      <th>alface</th>\n",
       "      <td>3</td>\n",
       "      <td>1</td>\n",
       "    </tr>\n",
       "    <tr>\n",
       "      <th>queijo</th>\n",
       "      <td>1</td>\n",
       "      <td>100</td>\n",
       "    </tr>\n",
       "    <tr>\n",
       "      <th>molho especial</th>\n",
       "      <td>1</td>\n",
       "      <td>100</td>\n",
       "    </tr>\n",
       "    <tr>\n",
       "      <th>cebola</th>\n",
       "      <td>1</td>\n",
       "      <td>10</td>\n",
       "    </tr>\n",
       "    <tr>\n",
       "      <th>picles</th>\n",
       "      <td>3</td>\n",
       "      <td>8</td>\n",
       "    </tr>\n",
       "    <tr>\n",
       "      <th>pão com gergelim</th>\n",
       "      <td>2</td>\n",
       "      <td>80</td>\n",
       "    </tr>\n",
       "  </tbody>\n",
       "</table>\n",
       "</div>"
      ],
      "text/plain": [
       "                  qtd  calorias\n",
       "hamburguer          2       120\n",
       "alface              3         1\n",
       "queijo              1       100\n",
       "molho especial      1       100\n",
       "cebola              1        10\n",
       "picles              3         8\n",
       "pão com gergelim    2        80"
      ]
     },
     "execution_count": 39,
     "metadata": {},
     "output_type": "execute_result"
    }
   ],
   "source": [
    "pd.read_json(json_split, orient = 'split')"
   ]
  },
  {
   "cell_type": "code",
   "execution_count": 40,
   "id": "46074bc9",
   "metadata": {},
   "outputs": [
    {
     "data": {
      "text/plain": [
       "'[{\"ingrediente\": \"hamburguer\", \"qtd\": 2, \"calorias\": 120}, {\"ingrediente\": \"alface\", \"qtd\": 3, \"calorias\": 1}, {\"ingrediente\": \"queijo\", \"qtd\": 1, \"calorias\": 100}, {\"ingrediente\": \"molho especial\", \"qtd\": 1, \"calorias\": 100}]'"
      ]
     },
     "execution_count": 40,
     "metadata": {},
     "output_type": "execute_result"
    }
   ],
   "source": [
    "# 'records' : Listas com formato [{coluna -> valor}, ... , {coluna -> valor}]\n",
    "\n",
    "json_record = json.dumps([\n",
    "    {\"ingrediente\":\"hamburguer\",\"qtd\":2,\"calorias\":120},\n",
    "    {\"ingrediente\":\"alface\",\"qtd\":3,\"calorias\":1},\n",
    "    {\"ingrediente\":\"queijo\",\"qtd\":1,\"calorias\":100},\n",
    "    {\"ingrediente\":\"molho especial\",\"qtd\":1,\"calorias\":100}\n",
    "])\n",
    "\n",
    "json_record"
   ]
  },
  {
   "cell_type": "code",
   "execution_count": 41,
   "id": "ec9ec113",
   "metadata": {},
   "outputs": [
    {
     "data": {
      "text/html": [
       "<div>\n",
       "<style scoped>\n",
       "    .dataframe tbody tr th:only-of-type {\n",
       "        vertical-align: middle;\n",
       "    }\n",
       "\n",
       "    .dataframe tbody tr th {\n",
       "        vertical-align: top;\n",
       "    }\n",
       "\n",
       "    .dataframe thead th {\n",
       "        text-align: right;\n",
       "    }\n",
       "</style>\n",
       "<table border=\"1\" class=\"dataframe\">\n",
       "  <thead>\n",
       "    <tr style=\"text-align: right;\">\n",
       "      <th></th>\n",
       "      <th>qtd</th>\n",
       "      <th>calorias</th>\n",
       "    </tr>\n",
       "    <tr>\n",
       "      <th>ingrediente</th>\n",
       "      <th></th>\n",
       "      <th></th>\n",
       "    </tr>\n",
       "  </thead>\n",
       "  <tbody>\n",
       "    <tr>\n",
       "      <th>hamburguer</th>\n",
       "      <td>2</td>\n",
       "      <td>120</td>\n",
       "    </tr>\n",
       "    <tr>\n",
       "      <th>alface</th>\n",
       "      <td>3</td>\n",
       "      <td>1</td>\n",
       "    </tr>\n",
       "    <tr>\n",
       "      <th>queijo</th>\n",
       "      <td>1</td>\n",
       "      <td>100</td>\n",
       "    </tr>\n",
       "    <tr>\n",
       "      <th>molho especial</th>\n",
       "      <td>1</td>\n",
       "      <td>100</td>\n",
       "    </tr>\n",
       "  </tbody>\n",
       "</table>\n",
       "</div>"
      ],
      "text/plain": [
       "                qtd  calorias\n",
       "ingrediente                  \n",
       "hamburguer        2       120\n",
       "alface            3         1\n",
       "queijo            1       100\n",
       "molho especial    1       100"
      ]
     },
     "execution_count": 41,
     "metadata": {},
     "output_type": "execute_result"
    }
   ],
   "source": [
    "pd.read_json(json_record, orient = 'records').set_index('ingrediente')"
   ]
  },
  {
   "cell_type": "code",
   "execution_count": 42,
   "id": "2bd846d2",
   "metadata": {},
   "outputs": [
    {
     "data": {
      "text/plain": [
       "'{\"hamburguer\": {\"qtd\": 5, \"calorias\": 20}, \"alface\": {\"qtd\": 8, \"calorias\": 30}, \"queijo\": {\"qtd\": 2, \"calorias\": 120}, \"molho especial\": {\"qtd\": 4, \"calorias\": 16}}'"
      ]
     },
     "execution_count": 42,
     "metadata": {},
     "output_type": "execute_result"
    }
   ],
   "source": [
    "# 'index' : dicionários com formato {indice -> {coluna -> valor}}\n",
    "\n",
    "json_index = json.dumps({\n",
    "    \"hamburguer\": {\n",
    "        \"qtd\": 5, \n",
    "        \"calorias\": 20\n",
    "        },\n",
    "    \"alface\": {\n",
    "        \"qtd\": 8, \n",
    "        \"calorias\": 30\n",
    "        },\n",
    "    \"queijo\": {\n",
    "        \"qtd\": 2, \n",
    "        \"calorias\": 120\n",
    "        },\n",
    "    \"molho especial\": {\n",
    "        \"qtd\": 4, \n",
    "        \"calorias\": 16\n",
    "        }\n",
    "\n",
    "})\n",
    "\n",
    "json_index\n"
   ]
  },
  {
   "cell_type": "code",
   "execution_count": 43,
   "id": "8170152c",
   "metadata": {},
   "outputs": [
    {
     "data": {
      "text/html": [
       "<div>\n",
       "<style scoped>\n",
       "    .dataframe tbody tr th:only-of-type {\n",
       "        vertical-align: middle;\n",
       "    }\n",
       "\n",
       "    .dataframe tbody tr th {\n",
       "        vertical-align: top;\n",
       "    }\n",
       "\n",
       "    .dataframe thead th {\n",
       "        text-align: right;\n",
       "    }\n",
       "</style>\n",
       "<table border=\"1\" class=\"dataframe\">\n",
       "  <thead>\n",
       "    <tr style=\"text-align: right;\">\n",
       "      <th></th>\n",
       "      <th>qtd</th>\n",
       "      <th>calorias</th>\n",
       "    </tr>\n",
       "  </thead>\n",
       "  <tbody>\n",
       "    <tr>\n",
       "      <th>hamburguer</th>\n",
       "      <td>5</td>\n",
       "      <td>20</td>\n",
       "    </tr>\n",
       "    <tr>\n",
       "      <th>alface</th>\n",
       "      <td>8</td>\n",
       "      <td>30</td>\n",
       "    </tr>\n",
       "    <tr>\n",
       "      <th>queijo</th>\n",
       "      <td>2</td>\n",
       "      <td>120</td>\n",
       "    </tr>\n",
       "    <tr>\n",
       "      <th>molho especial</th>\n",
       "      <td>4</td>\n",
       "      <td>16</td>\n",
       "    </tr>\n",
       "  </tbody>\n",
       "</table>\n",
       "</div>"
      ],
      "text/plain": [
       "                qtd  calorias\n",
       "hamburguer        5        20\n",
       "alface            8        30\n",
       "queijo            2       120\n",
       "molho especial    4        16"
      ]
     },
     "execution_count": 43,
     "metadata": {},
     "output_type": "execute_result"
    }
   ],
   "source": [
    "pd.read_json(json_index, orient = 'index')"
   ]
  },
  {
   "cell_type": "code",
   "execution_count": 44,
   "id": "cf367a89",
   "metadata": {},
   "outputs": [
    {
     "data": {
      "text/plain": [
       "'{\"qtd\": {\"hamburguer\": 2, \"alface\": 1, \"queijo\": 1, \"molho especial\": 1}, \"calorias\": {\"hamburguer\": 120, \"alface\": 1, \"queijo\": 100, \"molho especial\": 100}}'"
      ]
     },
     "execution_count": 44,
     "metadata": {},
     "output_type": "execute_result"
    }
   ],
   "source": [
    "# 'columns' : dicionarios com formato {coluna -> {indice -> valor}}\n",
    "\n",
    "json_columns = json.dumps({\n",
    "    \"qtd\": {\n",
    "        \"hamburguer\": 2,\n",
    "        \"alface\": 1,\n",
    "        \"queijo\": 1,\n",
    "        \"molho especial\": 1\n",
    "    },\n",
    "    \"calorias\": {\n",
    "        \"hamburguer\": 120,\n",
    "        \"alface\": 1,\n",
    "        \"queijo\": 100,\n",
    "        \"molho especial\": 100\n",
    "    }\n",
    "})\n",
    "\n",
    "json_columns"
   ]
  },
  {
   "cell_type": "code",
   "execution_count": 45,
   "id": "86840f29",
   "metadata": {},
   "outputs": [
    {
     "data": {
      "text/html": [
       "<div>\n",
       "<style scoped>\n",
       "    .dataframe tbody tr th:only-of-type {\n",
       "        vertical-align: middle;\n",
       "    }\n",
       "\n",
       "    .dataframe tbody tr th {\n",
       "        vertical-align: top;\n",
       "    }\n",
       "\n",
       "    .dataframe thead th {\n",
       "        text-align: right;\n",
       "    }\n",
       "</style>\n",
       "<table border=\"1\" class=\"dataframe\">\n",
       "  <thead>\n",
       "    <tr style=\"text-align: right;\">\n",
       "      <th></th>\n",
       "      <th>qtd</th>\n",
       "      <th>calorias</th>\n",
       "    </tr>\n",
       "  </thead>\n",
       "  <tbody>\n",
       "    <tr>\n",
       "      <th>hamburguer</th>\n",
       "      <td>2</td>\n",
       "      <td>120</td>\n",
       "    </tr>\n",
       "    <tr>\n",
       "      <th>alface</th>\n",
       "      <td>1</td>\n",
       "      <td>1</td>\n",
       "    </tr>\n",
       "    <tr>\n",
       "      <th>queijo</th>\n",
       "      <td>1</td>\n",
       "      <td>100</td>\n",
       "    </tr>\n",
       "    <tr>\n",
       "      <th>molho especial</th>\n",
       "      <td>1</td>\n",
       "      <td>100</td>\n",
       "    </tr>\n",
       "  </tbody>\n",
       "</table>\n",
       "</div>"
      ],
      "text/plain": [
       "                qtd  calorias\n",
       "hamburguer        2       120\n",
       "alface            1         1\n",
       "queijo            1       100\n",
       "molho especial    1       100"
      ]
     },
     "execution_count": 45,
     "metadata": {},
     "output_type": "execute_result"
    }
   ],
   "source": [
    "pd.read_json(json_columns, orient = 'columns')"
   ]
  },
  {
   "cell_type": "code",
   "execution_count": 46,
   "id": "fafa4602",
   "metadata": {},
   "outputs": [
    {
     "data": {
      "text/plain": [
       "'[[\"hamburguer\", 2, 120], [\"alface\", 1, 1], [\"queijo\", 1, 100], [\"molho especial\", 1, 100]]'"
      ]
     },
     "execution_count": 46,
     "metadata": {},
     "output_type": "execute_result"
    }
   ],
   "source": [
    "# 'values' : um arranjo com valores\n",
    "\n",
    "json_values = json.dumps([\n",
    "    [\"hamburguer\", 2, 120],\n",
    "    [\"alface\", 1, 1],\n",
    "    [\"queijo\", 1,100],\n",
    "    [\"molho especial\", 1, 100]\n",
    "\n",
    "])\n",
    "\n",
    "json_values"
   ]
  },
  {
   "cell_type": "code",
   "execution_count": 47,
   "id": "3e3e5ea3",
   "metadata": {},
   "outputs": [
    {
     "data": {
      "text/html": [
       "<div>\n",
       "<style scoped>\n",
       "    .dataframe tbody tr th:only-of-type {\n",
       "        vertical-align: middle;\n",
       "    }\n",
       "\n",
       "    .dataframe tbody tr th {\n",
       "        vertical-align: top;\n",
       "    }\n",
       "\n",
       "    .dataframe thead th {\n",
       "        text-align: right;\n",
       "    }\n",
       "</style>\n",
       "<table border=\"1\" class=\"dataframe\">\n",
       "  <thead>\n",
       "    <tr style=\"text-align: right;\">\n",
       "      <th></th>\n",
       "      <th>0</th>\n",
       "      <th>1</th>\n",
       "      <th>2</th>\n",
       "    </tr>\n",
       "  </thead>\n",
       "  <tbody>\n",
       "    <tr>\n",
       "      <th>0</th>\n",
       "      <td>hamburguer</td>\n",
       "      <td>2</td>\n",
       "      <td>120</td>\n",
       "    </tr>\n",
       "    <tr>\n",
       "      <th>1</th>\n",
       "      <td>alface</td>\n",
       "      <td>1</td>\n",
       "      <td>1</td>\n",
       "    </tr>\n",
       "    <tr>\n",
       "      <th>2</th>\n",
       "      <td>queijo</td>\n",
       "      <td>1</td>\n",
       "      <td>100</td>\n",
       "    </tr>\n",
       "    <tr>\n",
       "      <th>3</th>\n",
       "      <td>molho especial</td>\n",
       "      <td>1</td>\n",
       "      <td>100</td>\n",
       "    </tr>\n",
       "  </tbody>\n",
       "</table>\n",
       "</div>"
      ],
      "text/plain": [
       "                0  1    2\n",
       "0      hamburguer  2  120\n",
       "1          alface  1    1\n",
       "2          queijo  1  100\n",
       "3  molho especial  1  100"
      ]
     },
     "execution_count": 47,
     "metadata": {},
     "output_type": "execute_result"
    }
   ],
   "source": [
    "pd.read_json(json_values, orient = 'values')"
   ]
  },
  {
   "cell_type": "markdown",
   "id": "8b386d24",
   "metadata": {},
   "source": [
    "### <a> \"Achatando\" um json </a>\n",
    "\n",
    "Uma forma legal de trabalhar com dados mais aninhados é utilizar o json_normalize do pandas.\n",
    "\n",
    "Uma forma legal de entender como normalizar(achatar) o json é pensar ANTES como queremos o resultado.\n",
    "\n",
    "No caso das bandas, faz sentido ter uma linha para cada música, com as colunas para os nomes das bandas e dos albuns.\n",
    "Sabendo que o nivel mais \"profundo\" que queremos ir, fica mais fácil! Bora nessa!"
   ]
  },
  {
   "cell_type": "code",
   "execution_count": 48,
   "id": "c501a164",
   "metadata": {},
   "outputs": [
    {
     "data": {
      "text/plain": [
       "[{'name': 'Radiohead',\n",
       "  'albums': [{'title': 'The King of Limbs',\n",
       "    'songs': [{'title': 'Bloom', 'length': '5:15'},\n",
       "     {'title': 'Morning Mr Magpie', 'length': '4:41'},\n",
       "     {'title': 'Little by Little', 'length': '4:27'},\n",
       "     {'title': 'Feral', 'length': '3:13'},\n",
       "     {'title': 'Lotus Flower', 'length': '5:01'},\n",
       "     {'title': 'Codex', 'length': '4:47'},\n",
       "     {'title': 'Give Up the Ghost', 'length': '4:50'},\n",
       "     {'title': 'Separator', 'length': '5:20'}],\n",
       "    'description': '\\n\\tThe King of Limbs is the eighth studio album by English rock band Radiohead, produced by Nigel Godrich. It was self-released on 18 February 2011 as a download in MP3 and WAV formats, followed by physical CD and 12\" vinyl releases on 28 March, a wider digital release via AWAL, and a special \"newspaper\" edition on 9 May 2011. The physical editions were released through the band\\'s Ticker Tape imprint on XL in the United Kingdom, TBD in the United States, and Hostess Entertainment in Japan.\\n      '},\n",
       "   {'title': 'OK Computer',\n",
       "    'songs': [{'title': 'Airbag', 'length': '4:44'},\n",
       "     {'title': 'Paranoid Android', 'length': '6:23'},\n",
       "     {'title': 'Subterranean Homesick Alien', 'length': '4:27'},\n",
       "     {'title': 'Exit Music (For a Film)', 'length': '4:24'},\n",
       "     {'title': 'Let Down', 'length': '4:59'},\n",
       "     {'title': 'Karma Police', 'length': '4:21'},\n",
       "     {'title': 'Fitter Happier', 'length': '1:57'},\n",
       "     {'title': 'Electioneering', 'length': '3:50'},\n",
       "     {'title': 'Climbing Up the Walls', 'length': '4:45'},\n",
       "     {'title': 'No Surprises', 'length': '3:48'},\n",
       "     {'title': 'Lucky', 'length': '4:19'},\n",
       "     {'title': 'The Tourist', 'length': '5:24'}],\n",
       "    'description': \"\\n\\tOK Computer is the third studio album by the English alternative rock band Radiohead, released on 16 June 1997 on Parlophone in the United Kingdom and 1 July 1997 by Capitol Records in the United States. It marks a deliberate attempt by the band to move away from the introspective guitar-oriented sound of their previous album The Bends. Its layered sound and wide range of influences set it apart from many of the Britpop and alternative rock bands popular at the time and laid the groundwork for Radiohead's later, more experimental work.\\n      \"}]},\n",
       " {'name': 'Portishead',\n",
       "  'albums': [{'title': 'Dummy',\n",
       "    'songs': [{'title': 'Mysterons', 'length': '5:02'},\n",
       "     {'title': 'Sour Times', 'length': '4:11'},\n",
       "     {'title': 'Strangers', 'length': '3:55'},\n",
       "     {'title': 'It Could Be Sweet', 'length': '4:16'},\n",
       "     {'title': 'Wandering Star', 'length': '4:51'},\n",
       "     {'title': \"It's a Fire\", 'length': '3:49'},\n",
       "     {'title': 'Numb', 'length': '3:54'},\n",
       "     {'title': 'Roads', 'length': '5:02'},\n",
       "     {'title': 'Pedestal', 'length': '3:39'},\n",
       "     {'title': 'Biscuit', 'length': '5:01'},\n",
       "     {'title': 'Glory Box', 'length': '5:06'}],\n",
       "    'description': '\\n\\tDummy is the debut album of the Bristol-based group Portishead. Released in August 22, 1994 on Go! Discs, the album earned critical acclaim, winning the 1995 Mercury Music Prize. It is often credited with popularizing the trip-hop genre and is frequently cited in lists of the best albums of the 1990s. Although it achieved modest chart success overseas, it peaked at #2 on the UK Album Chart and saw two of its three singles reach #13. The album was certified gold in 1997 and has sold two million copies in Europe. As of September 2011, the album was certified double-platinum in the United Kingdom and has sold as of September 2011 825,000 copies.\\n      '},\n",
       "   {'title': 'Third',\n",
       "    'songs': [{'title': 'Silence', 'length': '4:58'},\n",
       "     {'title': 'Hunter', 'length': '3:57'},\n",
       "     {'title': 'Nylon Smile', 'length': '3:16'},\n",
       "     {'title': 'The Rip', 'length': '4:29'},\n",
       "     {'title': 'Plastic', 'length': '3:27'},\n",
       "     {'title': 'We Carry On', 'length': '6:27'},\n",
       "     {'title': 'Deep Water', 'length': '1:31'},\n",
       "     {'title': 'Machine Gun', 'length': '4:43'},\n",
       "     {'title': 'Small', 'length': '6:45'},\n",
       "     {'title': 'Magic Doors', 'length': '3:32'},\n",
       "     {'title': 'Threads', 'length': '5:45'}],\n",
       "    'description': \"\\n\\tThird is the third studio album by English musical group Portishead, released on 27 April 2008, on Island Records in the United Kingdom, two days after on Mercury Records in the United States, and on 30 April 2008 on Universal Music Japan in Japan. It is their first release in 10 years, and their first studio album in eleven years. Third entered the UK Album Chart at #2, and became the band's first-ever American Top 10 album on the Billboard 200, reaching #7 in its entry week.\\n      \"}]}]"
      ]
     },
     "execution_count": 48,
     "metadata": {},
     "output_type": "execute_result"
    }
   ],
   "source": [
    "# Vamos recuperar a estrutura de bandas original\n",
    "\n",
    "with open('bands.json') as arquivo_json:\n",
    "    objeto_json = json.load(arquivo_json)\n",
    "    \n",
    "objeto_json    "
   ]
  },
  {
   "cell_type": "code",
   "execution_count": 51,
   "id": "02e58372",
   "metadata": {},
   "outputs": [
    {
     "data": {
      "text/html": [
       "<div>\n",
       "<style scoped>\n",
       "    .dataframe tbody tr th:only-of-type {\n",
       "        vertical-align: middle;\n",
       "    }\n",
       "\n",
       "    .dataframe tbody tr th {\n",
       "        vertical-align: top;\n",
       "    }\n",
       "\n",
       "    .dataframe thead th {\n",
       "        text-align: right;\n",
       "    }\n",
       "</style>\n",
       "<table border=\"1\" class=\"dataframe\">\n",
       "  <thead>\n",
       "    <tr style=\"text-align: right;\">\n",
       "      <th></th>\n",
       "      <th>title</th>\n",
       "      <th>length</th>\n",
       "      <th>name</th>\n",
       "      <th>albumns.title</th>\n",
       "    </tr>\n",
       "  </thead>\n",
       "  <tbody>\n",
       "    <tr>\n",
       "      <th>0</th>\n",
       "      <td>Bloom</td>\n",
       "      <td>5:15</td>\n",
       "      <td>Radiohead</td>\n",
       "      <td>The King of Limbs</td>\n",
       "    </tr>\n",
       "    <tr>\n",
       "      <th>1</th>\n",
       "      <td>Morning Mr Magpie</td>\n",
       "      <td>4:41</td>\n",
       "      <td>Radiohead</td>\n",
       "      <td>The King of Limbs</td>\n",
       "    </tr>\n",
       "    <tr>\n",
       "      <th>2</th>\n",
       "      <td>Little by Little</td>\n",
       "      <td>4:27</td>\n",
       "      <td>Radiohead</td>\n",
       "      <td>The King of Limbs</td>\n",
       "    </tr>\n",
       "    <tr>\n",
       "      <th>3</th>\n",
       "      <td>Feral</td>\n",
       "      <td>3:13</td>\n",
       "      <td>Radiohead</td>\n",
       "      <td>The King of Limbs</td>\n",
       "    </tr>\n",
       "    <tr>\n",
       "      <th>4</th>\n",
       "      <td>Lotus Flower</td>\n",
       "      <td>5:01</td>\n",
       "      <td>Radiohead</td>\n",
       "      <td>The King of Limbs</td>\n",
       "    </tr>\n",
       "    <tr>\n",
       "      <th>5</th>\n",
       "      <td>Codex</td>\n",
       "      <td>4:47</td>\n",
       "      <td>Radiohead</td>\n",
       "      <td>The King of Limbs</td>\n",
       "    </tr>\n",
       "    <tr>\n",
       "      <th>6</th>\n",
       "      <td>Give Up the Ghost</td>\n",
       "      <td>4:50</td>\n",
       "      <td>Radiohead</td>\n",
       "      <td>The King of Limbs</td>\n",
       "    </tr>\n",
       "    <tr>\n",
       "      <th>7</th>\n",
       "      <td>Separator</td>\n",
       "      <td>5:20</td>\n",
       "      <td>Radiohead</td>\n",
       "      <td>The King of Limbs</td>\n",
       "    </tr>\n",
       "    <tr>\n",
       "      <th>8</th>\n",
       "      <td>Airbag</td>\n",
       "      <td>4:44</td>\n",
       "      <td>Radiohead</td>\n",
       "      <td>OK Computer</td>\n",
       "    </tr>\n",
       "    <tr>\n",
       "      <th>9</th>\n",
       "      <td>Paranoid Android</td>\n",
       "      <td>6:23</td>\n",
       "      <td>Radiohead</td>\n",
       "      <td>OK Computer</td>\n",
       "    </tr>\n",
       "    <tr>\n",
       "      <th>10</th>\n",
       "      <td>Subterranean Homesick Alien</td>\n",
       "      <td>4:27</td>\n",
       "      <td>Radiohead</td>\n",
       "      <td>OK Computer</td>\n",
       "    </tr>\n",
       "    <tr>\n",
       "      <th>11</th>\n",
       "      <td>Exit Music (For a Film)</td>\n",
       "      <td>4:24</td>\n",
       "      <td>Radiohead</td>\n",
       "      <td>OK Computer</td>\n",
       "    </tr>\n",
       "    <tr>\n",
       "      <th>12</th>\n",
       "      <td>Let Down</td>\n",
       "      <td>4:59</td>\n",
       "      <td>Radiohead</td>\n",
       "      <td>OK Computer</td>\n",
       "    </tr>\n",
       "    <tr>\n",
       "      <th>13</th>\n",
       "      <td>Karma Police</td>\n",
       "      <td>4:21</td>\n",
       "      <td>Radiohead</td>\n",
       "      <td>OK Computer</td>\n",
       "    </tr>\n",
       "    <tr>\n",
       "      <th>14</th>\n",
       "      <td>Fitter Happier</td>\n",
       "      <td>1:57</td>\n",
       "      <td>Radiohead</td>\n",
       "      <td>OK Computer</td>\n",
       "    </tr>\n",
       "    <tr>\n",
       "      <th>15</th>\n",
       "      <td>Electioneering</td>\n",
       "      <td>3:50</td>\n",
       "      <td>Radiohead</td>\n",
       "      <td>OK Computer</td>\n",
       "    </tr>\n",
       "    <tr>\n",
       "      <th>16</th>\n",
       "      <td>Climbing Up the Walls</td>\n",
       "      <td>4:45</td>\n",
       "      <td>Radiohead</td>\n",
       "      <td>OK Computer</td>\n",
       "    </tr>\n",
       "    <tr>\n",
       "      <th>17</th>\n",
       "      <td>No Surprises</td>\n",
       "      <td>3:48</td>\n",
       "      <td>Radiohead</td>\n",
       "      <td>OK Computer</td>\n",
       "    </tr>\n",
       "    <tr>\n",
       "      <th>18</th>\n",
       "      <td>Lucky</td>\n",
       "      <td>4:19</td>\n",
       "      <td>Radiohead</td>\n",
       "      <td>OK Computer</td>\n",
       "    </tr>\n",
       "    <tr>\n",
       "      <th>19</th>\n",
       "      <td>The Tourist</td>\n",
       "      <td>5:24</td>\n",
       "      <td>Radiohead</td>\n",
       "      <td>OK Computer</td>\n",
       "    </tr>\n",
       "    <tr>\n",
       "      <th>20</th>\n",
       "      <td>Mysterons</td>\n",
       "      <td>5:02</td>\n",
       "      <td>Portishead</td>\n",
       "      <td>Dummy</td>\n",
       "    </tr>\n",
       "    <tr>\n",
       "      <th>21</th>\n",
       "      <td>Sour Times</td>\n",
       "      <td>4:11</td>\n",
       "      <td>Portishead</td>\n",
       "      <td>Dummy</td>\n",
       "    </tr>\n",
       "    <tr>\n",
       "      <th>22</th>\n",
       "      <td>Strangers</td>\n",
       "      <td>3:55</td>\n",
       "      <td>Portishead</td>\n",
       "      <td>Dummy</td>\n",
       "    </tr>\n",
       "    <tr>\n",
       "      <th>23</th>\n",
       "      <td>It Could Be Sweet</td>\n",
       "      <td>4:16</td>\n",
       "      <td>Portishead</td>\n",
       "      <td>Dummy</td>\n",
       "    </tr>\n",
       "    <tr>\n",
       "      <th>24</th>\n",
       "      <td>Wandering Star</td>\n",
       "      <td>4:51</td>\n",
       "      <td>Portishead</td>\n",
       "      <td>Dummy</td>\n",
       "    </tr>\n",
       "    <tr>\n",
       "      <th>25</th>\n",
       "      <td>It's a Fire</td>\n",
       "      <td>3:49</td>\n",
       "      <td>Portishead</td>\n",
       "      <td>Dummy</td>\n",
       "    </tr>\n",
       "    <tr>\n",
       "      <th>26</th>\n",
       "      <td>Numb</td>\n",
       "      <td>3:54</td>\n",
       "      <td>Portishead</td>\n",
       "      <td>Dummy</td>\n",
       "    </tr>\n",
       "    <tr>\n",
       "      <th>27</th>\n",
       "      <td>Roads</td>\n",
       "      <td>5:02</td>\n",
       "      <td>Portishead</td>\n",
       "      <td>Dummy</td>\n",
       "    </tr>\n",
       "    <tr>\n",
       "      <th>28</th>\n",
       "      <td>Pedestal</td>\n",
       "      <td>3:39</td>\n",
       "      <td>Portishead</td>\n",
       "      <td>Dummy</td>\n",
       "    </tr>\n",
       "    <tr>\n",
       "      <th>29</th>\n",
       "      <td>Biscuit</td>\n",
       "      <td>5:01</td>\n",
       "      <td>Portishead</td>\n",
       "      <td>Dummy</td>\n",
       "    </tr>\n",
       "    <tr>\n",
       "      <th>30</th>\n",
       "      <td>Glory Box</td>\n",
       "      <td>5:06</td>\n",
       "      <td>Portishead</td>\n",
       "      <td>Dummy</td>\n",
       "    </tr>\n",
       "    <tr>\n",
       "      <th>31</th>\n",
       "      <td>Silence</td>\n",
       "      <td>4:58</td>\n",
       "      <td>Portishead</td>\n",
       "      <td>Third</td>\n",
       "    </tr>\n",
       "    <tr>\n",
       "      <th>32</th>\n",
       "      <td>Hunter</td>\n",
       "      <td>3:57</td>\n",
       "      <td>Portishead</td>\n",
       "      <td>Third</td>\n",
       "    </tr>\n",
       "    <tr>\n",
       "      <th>33</th>\n",
       "      <td>Nylon Smile</td>\n",
       "      <td>3:16</td>\n",
       "      <td>Portishead</td>\n",
       "      <td>Third</td>\n",
       "    </tr>\n",
       "    <tr>\n",
       "      <th>34</th>\n",
       "      <td>The Rip</td>\n",
       "      <td>4:29</td>\n",
       "      <td>Portishead</td>\n",
       "      <td>Third</td>\n",
       "    </tr>\n",
       "    <tr>\n",
       "      <th>35</th>\n",
       "      <td>Plastic</td>\n",
       "      <td>3:27</td>\n",
       "      <td>Portishead</td>\n",
       "      <td>Third</td>\n",
       "    </tr>\n",
       "    <tr>\n",
       "      <th>36</th>\n",
       "      <td>We Carry On</td>\n",
       "      <td>6:27</td>\n",
       "      <td>Portishead</td>\n",
       "      <td>Third</td>\n",
       "    </tr>\n",
       "    <tr>\n",
       "      <th>37</th>\n",
       "      <td>Deep Water</td>\n",
       "      <td>1:31</td>\n",
       "      <td>Portishead</td>\n",
       "      <td>Third</td>\n",
       "    </tr>\n",
       "    <tr>\n",
       "      <th>38</th>\n",
       "      <td>Machine Gun</td>\n",
       "      <td>4:43</td>\n",
       "      <td>Portishead</td>\n",
       "      <td>Third</td>\n",
       "    </tr>\n",
       "    <tr>\n",
       "      <th>39</th>\n",
       "      <td>Small</td>\n",
       "      <td>6:45</td>\n",
       "      <td>Portishead</td>\n",
       "      <td>Third</td>\n",
       "    </tr>\n",
       "    <tr>\n",
       "      <th>40</th>\n",
       "      <td>Magic Doors</td>\n",
       "      <td>3:32</td>\n",
       "      <td>Portishead</td>\n",
       "      <td>Third</td>\n",
       "    </tr>\n",
       "    <tr>\n",
       "      <th>41</th>\n",
       "      <td>Threads</td>\n",
       "      <td>5:45</td>\n",
       "      <td>Portishead</td>\n",
       "      <td>Third</td>\n",
       "    </tr>\n",
       "  </tbody>\n",
       "</table>\n",
       "</div>"
      ],
      "text/plain": [
       "                          title length        name      albumns.title\n",
       "0                         Bloom   5:15   Radiohead  The King of Limbs\n",
       "1             Morning Mr Magpie   4:41   Radiohead  The King of Limbs\n",
       "2              Little by Little   4:27   Radiohead  The King of Limbs\n",
       "3                         Feral   3:13   Radiohead  The King of Limbs\n",
       "4                  Lotus Flower   5:01   Radiohead  The King of Limbs\n",
       "5                         Codex   4:47   Radiohead  The King of Limbs\n",
       "6             Give Up the Ghost   4:50   Radiohead  The King of Limbs\n",
       "7                     Separator   5:20   Radiohead  The King of Limbs\n",
       "8                        Airbag   4:44   Radiohead        OK Computer\n",
       "9              Paranoid Android   6:23   Radiohead        OK Computer\n",
       "10  Subterranean Homesick Alien   4:27   Radiohead        OK Computer\n",
       "11      Exit Music (For a Film)   4:24   Radiohead        OK Computer\n",
       "12                     Let Down   4:59   Radiohead        OK Computer\n",
       "13                 Karma Police   4:21   Radiohead        OK Computer\n",
       "14               Fitter Happier   1:57   Radiohead        OK Computer\n",
       "15               Electioneering   3:50   Radiohead        OK Computer\n",
       "16        Climbing Up the Walls   4:45   Radiohead        OK Computer\n",
       "17                 No Surprises   3:48   Radiohead        OK Computer\n",
       "18                        Lucky   4:19   Radiohead        OK Computer\n",
       "19                  The Tourist   5:24   Radiohead        OK Computer\n",
       "20                    Mysterons   5:02  Portishead              Dummy\n",
       "21                   Sour Times   4:11  Portishead              Dummy\n",
       "22                    Strangers   3:55  Portishead              Dummy\n",
       "23            It Could Be Sweet   4:16  Portishead              Dummy\n",
       "24               Wandering Star   4:51  Portishead              Dummy\n",
       "25                  It's a Fire   3:49  Portishead              Dummy\n",
       "26                         Numb   3:54  Portishead              Dummy\n",
       "27                        Roads   5:02  Portishead              Dummy\n",
       "28                     Pedestal   3:39  Portishead              Dummy\n",
       "29                      Biscuit   5:01  Portishead              Dummy\n",
       "30                    Glory Box   5:06  Portishead              Dummy\n",
       "31                      Silence   4:58  Portishead              Third\n",
       "32                       Hunter   3:57  Portishead              Third\n",
       "33                  Nylon Smile   3:16  Portishead              Third\n",
       "34                      The Rip   4:29  Portishead              Third\n",
       "35                      Plastic   3:27  Portishead              Third\n",
       "36                  We Carry On   6:27  Portishead              Third\n",
       "37                   Deep Water   1:31  Portishead              Third\n",
       "38                  Machine Gun   4:43  Portishead              Third\n",
       "39                        Small   6:45  Portishead              Third\n",
       "40                  Magic Doors   3:32  Portishead              Third\n",
       "41                      Threads   5:45  Portishead              Third"
      ]
     },
     "execution_count": 51,
     "metadata": {},
     "output_type": "execute_result"
    }
   ],
   "source": [
    "pd.json_normalize(objeto_json, record_path=['albums','songs'],meta=['name',['albumns', 'title']])"
   ]
  },
  {
   "cell_type": "code",
   "execution_count": null,
   "id": "f8c2339e",
   "metadata": {},
   "outputs": [],
   "source": []
  }
 ],
 "metadata": {
  "kernelspec": {
   "display_name": "Python 3 (ipykernel)",
   "language": "python",
   "name": "python3"
  },
  "language_info": {
   "codemirror_mode": {
    "name": "ipython",
    "version": 3
   },
   "file_extension": ".py",
   "mimetype": "text/x-python",
   "name": "python",
   "nbconvert_exporter": "python",
   "pygments_lexer": "ipython3",
   "version": "3.9.13"
  }
 },
 "nbformat": 4,
 "nbformat_minor": 5
}
