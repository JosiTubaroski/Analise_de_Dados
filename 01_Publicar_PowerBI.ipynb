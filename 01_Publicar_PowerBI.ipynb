{
 "cells": [
  {
   "cell_type": "markdown",
   "id": "f45e26d9",
   "metadata": {},
   "source": [
    "\n",
    "01_Aula de Como criar Conta Gratuita e Publicar o ser Dasboard no PowerBI - (Método Atualizado em 2022)\n",
    "\n",
    "https://www.youtube.com/watch?v=JCJPD0pRxD8"
   ]
  },
  {
   "cell_type": "markdown",
   "id": "fc318a6e",
   "metadata": {},
   "source": [
    "Como criar uma conta e salvar o dashboard na web e assim enviar para quem voce quizer."
   ]
  },
  {
   "cell_type": "markdown",
   "id": "b445b375",
   "metadata": {},
   "source": [
    "Para publica nosso trabalho realizado no PowerBI que é gratuito, é necessário ter uma conta.\n",
    "Com e-mail corporativo é possivel criar uma conta para a publicação dos dashboards.\n",
    "Porem não são aceitos gmail, hotmail (e-mails pessoais em geral).\n",
    "Vamos ver como criar essa conta gratuita, mesmo não tendo um e-mail corporativo."
   ]
  },
  {
   "cell_type": "markdown",
   "id": "630f3061",
   "metadata": {},
   "source": [
    "<b>Passo 1:</b> Pesquisar no google 'Microsoft Office', vamos simular uma compra do Pacote Office\n",
    "<img src=\"01_Simular_Compra.GIF\" alt=\"Anaconda\">"
   ]
  },
  {
   "cell_type": "markdown",
   "id": "44af415b",
   "metadata": {},
   "source": [
    "Só que na verdade não vamos comprar o office"
   ]
  },
  {
   "cell_type": "markdown",
   "id": "902bb164",
   "metadata": {},
   "source": [
    "Vamos simpesmente criar uma conta corporativa"
   ]
  },
  {
   "cell_type": "markdown",
   "id": "c1fc8998",
   "metadata": {},
   "source": [
    "<b>Passo 2:</b> Acessar o office.com"
   ]
  },
  {
   "cell_type": "markdown",
   "id": "ccdee79d",
   "metadata": {},
   "source": [
    "![Vamos Simular Uma Compra do Microsoft Office](02_Site_Office.GIF) "
   ]
  },
  {
   "cell_type": "markdown",
   "id": "f48aa72d",
   "metadata": {},
   "source": [
    "<b>Passo 3:</b> Localizando Planos para Empresa "
   ]
  },
  {
   "cell_type": "markdown",
   "id": "e016c35b",
   "metadata": {},
   "source": [
    "![Localizando Produtos para empres](04_Localizando_PlanosEmpresa.png) "
   ]
  },
  {
   "cell_type": "markdown",
   "id": "3677e717",
   "metadata": {},
   "source": [
    "<b>Passo 4:</b> Ver Planos e preços"
   ]
  },
  {
   "cell_type": "markdown",
   "id": "81db2812",
   "metadata": {},
   "source": [
    "![05](05_VejaPlanosPreços.GIF) "
   ]
  },
  {
   "cell_type": "markdown",
   "id": "8bfd5830",
   "metadata": {},
   "source": [
    "<b>Passo 5:</b> Acessar para empresa \n",
    "\n",
    "![06](07_Para_Empresa.GIF) \n"
   ]
  },
  {
   "cell_type": "markdown",
   "id": "08ddb33f",
   "metadata": {},
   "source": [
    "\n",
    "![06](08_Experimente_Gratis_Por_UmMes.GIF) "
   ]
  },
  {
   "cell_type": "markdown",
   "id": "853b9616",
   "metadata": {},
   "source": [
    "<b> Incluir e-mail Pessoal e prosseguir </b>"
   ]
  },
  {
   "cell_type": "markdown",
   "id": "b16f5ede",
   "metadata": {},
   "source": [
    "![09](09_Incluir_EmailPessoal.GIF) "
   ]
  },
  {
   "cell_type": "markdown",
   "id": "8c1dcd94",
   "metadata": {},
   "source": [
    "<b>Então vai aparecer a mensagem abaixo:</b>"
   ]
  },
  {
   "cell_type": "markdown",
   "id": "d6c06000",
   "metadata": {},
   "source": [
    "![10](10_Configurar_Conta.GIF)"
   ]
  },
  {
   "cell_type": "markdown",
   "id": "bb4b6a59",
   "metadata": {},
   "source": [
    "<b>Configurando E-mail da Empresa:</b>\n",
    "\n",
    "![.](11_ConfigurandoEmailEmpresa.GIF)"
   ]
  },
  {
   "cell_type": "markdown",
   "id": "b371641d",
   "metadata": {},
   "source": [
    "<b>Selecionar Avançar</b>"
   ]
  },
  {
   "cell_type": "markdown",
   "id": "46db2001",
   "metadata": {},
   "source": [
    "\n",
    "<b> Selecionar enviar Código Verificação </b>\n",
    "\n",
    "![.](12_Enviar_CodigoVerificacao.GIF)\n"
   ]
  },
  {
   "cell_type": "markdown",
   "id": "613b606c",
   "metadata": {},
   "source": [
    "<b>Criando Conta</b>"
   ]
  },
  {
   "cell_type": "markdown",
   "id": "3b0a427f",
   "metadata": {},
   "source": [
    "\n",
    "![.](13_Criando_Conta.GIF)"
   ]
  },
  {
   "cell_type": "markdown",
   "id": "a0079823",
   "metadata": {},
   "source": [
    "O Meu e-mail será <b>JosiTubaroski@LakshmiIntegrativas.onmicrosoft.com</b>"
   ]
  },
  {
   "cell_type": "markdown",
   "id": "b6579d34",
   "metadata": {},
   "source": [
    "E minha senha: Senha@2023"
   ]
  },
  {
   "cell_type": "markdown",
   "id": "ac767dce",
   "metadata": {},
   "source": [
    "\n",
    "\n",
    "![.](14_Email_Senha.GIF)"
   ]
  },
  {
   "cell_type": "markdown",
   "id": "ed0f6475",
   "metadata": {},
   "source": [
    "<b> Não é necessário realizar pagamento</b>"
   ]
  },
  {
   "cell_type": "markdown",
   "id": "6006455d",
   "metadata": {},
   "source": [
    "![.](naorealizarformapagamento.GIF)"
   ]
  },
  {
   "cell_type": "markdown",
   "id": "c8ebaa24",
   "metadata": {},
   "source": [
    "<b>Até agora o nosso e-mail está criado, vamos agora acessar o power bi</b>"
   ]
  },
  {
   "cell_type": "markdown",
   "id": "4e96f2ce",
   "metadata": {},
   "source": [
    "* Nessa Etapa vamos acessar o powerbi web app.powerbi.com "
   ]
  },
  {
   "cell_type": "markdown",
   "id": "c5f2879e",
   "metadata": {},
   "source": [
    "![.](15_Tela_PowerBIWeb.GIF)"
   ]
  },
  {
   "cell_type": "markdown",
   "id": "5601e9cc",
   "metadata": {},
   "source": [
    "<b>Acessando com meu e-mail criado</b>"
   ]
  },
  {
   "cell_type": "markdown",
   "id": "574173d5",
   "metadata": {},
   "source": [
    "![.](16_Acessando_Microsoft.GIF)"
   ]
  },
  {
   "cell_type": "markdown",
   "id": "db6a06a9",
   "metadata": {},
   "source": [
    "![.](17_Criando_Minha_ContaAcesso.GIF)"
   ]
  },
  {
   "cell_type": "markdown",
   "id": "aaafc42c",
   "metadata": {},
   "source": [
    "![.](18_AcessandoIntroducao.GIF)\n"
   ]
  },
  {
   "cell_type": "markdown",
   "id": "445115f3",
   "metadata": {},
   "source": [
    "![.](19_Acessando_PowerBI_Online.GIF)"
   ]
  }
 ],
 "metadata": {
  "kernelspec": {
   "display_name": "Python 3 (ipykernel)",
   "language": "python",
   "name": "python3"
  },
  "language_info": {
   "codemirror_mode": {
    "name": "ipython",
    "version": 3
   },
   "file_extension": ".py",
   "mimetype": "text/x-python",
   "name": "python",
   "nbconvert_exporter": "python",
   "pygments_lexer": "ipython3",
   "version": "3.9.13"
  }
 },
 "nbformat": 4,
 "nbformat_minor": 5
}
