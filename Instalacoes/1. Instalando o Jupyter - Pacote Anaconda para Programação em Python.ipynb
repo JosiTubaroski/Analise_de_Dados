{
 "cells": [
  {
   "cell_type": "markdown",
   "id": "2313d7f3",
   "metadata": {},
   "source": [
    "**Sobre o Jupyter:** O Jupyter Notebook é uma poderosa ferramenta interativa para desenvolvimento, execução e compartilhamento de código em várias linguagens de Programação, mas é amplamente utilizado com as linguagens Python e R. Sua principal finalidade é fornecer um ambiente colaborativo e iterativo para análise, visualização, modelagem estatística, simulações, aprendizado de máquina e muito mais. Além disso é frequentemente utilizado por cientistas de dados, pesquisadores, engenheiros e profissionais que trabalham com análise numérica e computacional.\n",
    "\n",
    "Aqui estão algumas das principais funcionalidades e usos do Jupyter Notebook:\n",
    "\n",
    "1 - **Ambiente interativo:** O jupyter Notebook permite escrever e executar códigos em células individuais, o que facilita a experimentação e a visualização dos resultados em tempo real.\n",
    "Isso torna o processo de desenvolvimento mais interativo e permite uma exploração mais dinâmica dos dados.\n",
    "\n",
    "2 - **Documentação interativa:** Além de código, você pode adicionar texto explicativo, fórmulas matemáticas, gráficos, imagens e outros elementos ricos em mídia nas células do Notebook. Essa combinação de código e texto facilita a criação de documentos interativos e relatórios, ajudando a comunicar suas análises de maneira mais clara e compreensivel.\n",
    "\n",
    "3 - **Visualização de Dados:** O Jupyter Notebook suporta bibliotecas populares de visualização de dados, como Matplotlib e Seaborn, permitindo que voce crie graficos, plots e dashboards interativos para analisar seus dados.\n",
    "\n",
    "4 - **Aprendizado de máquina e ciência de dados:** Com o jupyter Notebook, você pode criar modelos de aprendizado de máquina, executar análises estatísticas e explorar seus dados de maneira interativa. Isso é especialmente útil ao desenvolver e ajustar modelos de aprendizado de máquina, pois você pode ver os resultados imediatamente.\n",
    "\n",
    "5 - **Compartilhamento:** Os notebooks podem ser facilmente compartilhados com outras pessoas, seja enviando o arquivo do Notebook ou através de serviços que permitem visualizar o Notebook em um navegados, como o GitHub, Google Colab ou nbviewer.\n",
    "\n",
    "6 - **Execução em ambientes diversos:** Como os Notebooks são baseados na web, eles podem ser executados em diferentes ambientes, incluindo localmente em sua máquina, em servidores na nuvem ou até mesmo em ambientes virtualizados.\n",
    "\n",
    "O Jupyter Notebook se tornou uma ferramenta essencial para a comunidade de ciência de dados e programadores, devido à sua flexibilidade, interatividade e capacidade de criar documentos dinâmicos. Ele oferece uma abordagem única para desenvolver e apresentar análises complexas, combinando código, visualizações e explicações em um único ambiente colaborativo e acessivel.\n",
    "\n"
   ]
  },
  {
   "cell_type": "markdown",
   "id": "8b56f33b",
   "metadata": {},
   "source": [
    "### 1 - Instalando o Pacote Anaconda"
   ]
  },
  {
   "cell_type": "markdown",
   "id": "595ff0d3",
   "metadata": {},
   "source": [
    "Acessar o site: https://www.anaconda.com/, em seguida acessar Downloads.\n",
    "\n",
    "<img src=\"Anaconda.GIF\" alt=\"Anaconda\">"
   ]
  },
  {
   "cell_type": "markdown",
   "id": "2e24aec4",
   "metadata": {},
   "source": [
    "Realizar Download \n",
    "\n",
    "<img src=\"download_anaconda.GIF\" alt=\"Anaconda\">\n"
   ]
  },
  {
   "cell_type": "markdown",
   "id": "813bb7a6",
   "metadata": {},
   "source": [
    "Após o download começar a instalação.\n",
    "\n",
    "<img src=\"Instalando_Anaconda.GIF\" alt=\"Anaconda\">\n"
   ]
  },
  {
   "cell_type": "markdown",
   "id": "a34a6d66",
   "metadata": {},
   "source": [
    "\n",
    "<img src=\"Instalando_Anaconda_2.GIF\" alt=\"Anaconda\">\n"
   ]
  },
  {
   "cell_type": "markdown",
   "id": "02a8b6eb",
   "metadata": {},
   "source": [
    "<img src=\"Instalado_Anaconda_3.GIF\" alt=\"Anaconda\">"
   ]
  },
  {
   "cell_type": "markdown",
   "id": "2f09825f",
   "metadata": {},
   "source": [
    "<img src=\"Instalando_Anaconda_4.GIF\" alt=\"Anaconda\">\n"
   ]
  },
  {
   "cell_type": "markdown",
   "id": "a8a7a57e",
   "metadata": {},
   "source": [
    "<img src=\"Instalando_Anaconda_5.GIF\" alt=\"Anaconda\">\n"
   ]
  },
  {
   "cell_type": "markdown",
   "id": "9058fc3c",
   "metadata": {},
   "source": [
    "Pode demorar um pouco o processo de instalação\n",
    "\n",
    "<img src=\"Instalando_Anaconda_6.GIF\" alt=\"Anaconda\">\n",
    "\n"
   ]
  },
  {
   "attachments": {},
   "cell_type": "markdown",
   "id": "e4660605",
   "metadata": {},
   "source": [
    "Após finalizar a instalação, para verificar se foi devidamente instalado.\n",
    "\n",
    "Selecionar Iniciar no computador e escrever Prompt.\n",
    "\n",
    "Deve aparecer o Anaconda Prompt\n",
    "\n",
    "<img src=\"Prompt_Anaconda.GIF\" alt=\"Anaconda\">\n"
   ]
  },
  {
   "cell_type": "markdown",
   "id": "518f6077",
   "metadata": {},
   "source": [
    "Outra Verificação é escrever Jupyter\n",
    "\n",
    "<img src=\"Jupyter_Aplicativo.GIF\" alt=\"Anaconda\">\n",
    "\n",
    "\n"
   ]
  },
  {
   "cell_type": "markdown",
   "id": "d78a71c6",
   "metadata": {},
   "source": [
    "**Executando O Jupyter** Selecionar no JupyterNotebook duas vezes\n",
    "\n",
    "<img src=\"Executar_Jupyter_Notebook.GIF\" alt=\"Anaconda\">\n",
    "\n"
   ]
  },
  {
   "cell_type": "markdown",
   "id": "6e393916",
   "metadata": {},
   "source": [
    "Então será aberto no seu navegador o Jupyter\n",
    "\n",
    "<img src=\"Jupyter_Aberto_Navegador.GIF\" alt=\"Anaconda\">\n",
    "\n"
   ]
  },
  {
   "cell_type": "code",
   "execution_count": null,
   "id": "58481f33",
   "metadata": {},
   "outputs": [],
   "source": []
  }
 ],
 "metadata": {
  "kernelspec": {
   "display_name": "Python 3 (ipykernel)",
   "language": "python",
   "name": "python3"
  },
  "language_info": {
   "codemirror_mode": {
    "name": "ipython",
    "version": 3
   },
   "file_extension": ".py",
   "mimetype": "text/x-python",
   "name": "python",
   "nbconvert_exporter": "python",
   "pygments_lexer": "ipython3",
   "version": "3.9.13"
  }
 },
 "nbformat": 4,
 "nbformat_minor": 5
}
