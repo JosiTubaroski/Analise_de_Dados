{
 "cells": [
  {
   "cell_type": "markdown",
   "id": "737233c8",
   "metadata": {},
   "source": [
    "**Sobre Notebook do Jupyter:** Um notebook do Jupyter é um documento interativo que combina código executável, texto formatado e elementos de mídia, como imagens e gráficos, tudo em um único ambiente. Ele permite a criação e compartilhamento de Análises de dados, exploração de dados, modelagem estatística, visualizações interativas e até mesmo o desenvolvimento de aplicações completas.\n",
    "\n",
    "O formato do Notebook é baseado em células, que são unidades individuais de conteúdo. Cada célula pode conter diferentes tipos de conteúdo:\n",
    "\n",
    "1 - **Células de Código:** Nessas células, você pode escrever e executar código em uma das linguagens suportadas, como Python, R, Julia, entre outras. O código é executado no kernel do Jupyter em tempo real, e os resultados são exibidos logo abaixo da célula. Isso permite uma abordagem iterativa para desenvolvimento de código, onde você pode executar blocos de códigos separadamente e ver os resultados imediatamente.\n",
    "\n",
    "2 - **Células de Texto(Markdown):** Essas células usam a sintaxe Markdown para formatar o texto, permitindo adicionar titulos, listas, links, imagens, fórmulas matemáticas e outros elementos de formatação. Isso possibilita a criação de explicações, documentação e relatórios dentro do mesmo ambiente do código.\n",
    "\n",
    "3 - **Células de Saída:** As células de código, quando executadas, produzem resultados que são exibidos como saída logo abaixo da célula. A saída pode ser texto formatado, tabelas, gráficos, visualizações ou qualquer outra coisa que o código produza.\n",
    "\n",
    "A grande vantagem dos notebooks do Jupyter é que eles permitem a criação de documentos interativos e autocontidos. Isso é particularmente útil para análise de dados, pois você pode incluir visualizações interativas, explicar o raciocinio por tras das análises e compartilhar os resultados de forma clara e compreensivel."
   ]
  },
  {
   "cell_type": "markdown",
   "id": "c3103f3d",
   "metadata": {},
   "source": [
    "### Passos:"
   ]
  },
  {
   "cell_type": "markdown",
   "id": "fdf7c477",
   "metadata": {},
   "source": [
    "1 - Criar um pasta para o Novo Jupyter Notebook."
   ]
  },
  {
   "cell_type": "markdown",
   "id": "c465f2ec",
   "metadata": {},
   "source": [
    "<img src=\"01_Criar_Notebook.GIF\" alt=\"Texto Alternativo\">"
   ]
  },
  {
   "cell_type": "markdown",
   "id": "eeeb9606",
   "metadata": {},
   "source": [
    "2 - Acessar Prompt de comando"
   ]
  },
  {
   "cell_type": "markdown",
   "id": "03eeb066",
   "metadata": {},
   "source": [
    "<img src=\"02_Prompt.GIF\" alt=\"Texto Alternativo\">"
   ]
  },
  {
   "cell_type": "markdown",
   "id": "b299ae87",
   "metadata": {},
   "source": [
    "3 - Localizar o diretório, no prompt de comando"
   ]
  },
  {
   "cell_type": "markdown",
   "id": "81c7fcc7",
   "metadata": {},
   "source": [
    "<img src=\"03_Acessar_Diretorio.GIF\" alt=\"Texto Alternativo\">\n"
   ]
  },
  {
   "cell_type": "markdown",
   "id": "e215260b",
   "metadata": {},
   "source": [
    "4 - Incluir o comando: **Jupyter Notebook**"
   ]
  },
  {
   "cell_type": "markdown",
   "id": "abc67d51",
   "metadata": {},
   "source": [
    "<img src=\"04_Jupyter_Notebook.GIF\" alt=\"Texto Alternativo\">"
   ]
  },
  {
   "cell_type": "markdown",
   "id": "ca7e8402",
   "metadata": {},
   "source": [
    "5 - Após a inclusão do comando, é criado o jupyter notebook\n",
    "\n",
    "<img src=\"05_Abertura_Jupyter.GIF\" alt=\"Texto Alternativo\">"
   ]
  },
  {
   "cell_type": "markdown",
   "id": "48a07dae",
   "metadata": {},
   "source": [
    "**Pronto** seu novo Notebook está criado!"
   ]
  },
  {
   "cell_type": "code",
   "execution_count": null,
   "id": "b0220e34",
   "metadata": {},
   "outputs": [],
   "source": []
  }
 ],
 "metadata": {
  "kernelspec": {
   "display_name": "Python 3 (ipykernel)",
   "language": "python",
   "name": "python3"
  },
  "language_info": {
   "codemirror_mode": {
    "name": "ipython",
    "version": 3
   },
   "file_extension": ".py",
   "mimetype": "text/x-python",
   "name": "python",
   "nbconvert_exporter": "python",
   "pygments_lexer": "ipython3",
   "version": "3.9.13"
  }
 },
 "nbformat": 4,
 "nbformat_minor": 5
}
