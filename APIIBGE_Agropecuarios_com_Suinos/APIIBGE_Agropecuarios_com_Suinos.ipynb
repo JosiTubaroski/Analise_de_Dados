{
 "cells": [
  {
   "cell_type": "markdown",
   "id": "3f498602",
   "metadata": {},
   "source": [
    "### API IBGE\n",
    "\n",
    "https://servicodados.ibge.gov.br/api/docs/\n",
    "\n",
    "**Sobre:** A API do IBGE (Instituto Brasileiro de Geografia e Estatística) é uma interface de programação de aplicativos que permite acessar e utilizar os dados e serviços disponibilizados pelo IBGE. Ela oferece acesso a uma ampla gama de informações estatísticas e geográficas sobre o Brasil.\n",
    "\n",
    "A API do IBGE serve para facilitar o acesso e a integração de dados do IBGE em aplicações e sistemas desenvolvidos por terceiros."
   ]
  },
  {
   "cell_type": "markdown",
   "id": "e954ce61",
   "metadata": {},
   "source": [
    "### 1 - Acessar o site do IBGE e Selecionar  Agregados\n",
    "\n",
    "<img src=\"01_Agregados.png\" alt=\"01_Agregados\">"
   ]
  },
  {
   "cell_type": "markdown",
   "id": "1bbe8fcb",
   "metadata": {},
   "source": [
    "### 2 - Selecionar Query Builder\n",
    "\n",
    "<img src=\"02_QueryBuilder.png\" alt=\"02_QueryBuilder\">"
   ]
  },
  {
   "cell_type": "markdown",
   "id": "fe44f1ad",
   "metadata": {},
   "source": [
    "### 3 - Nesse exemplo será utilizada na pesquisa 'Censo Agropecuario'\n",
    "\n",
    "**Agregado:** 4112- Composição de suínos no ano, nos estabelecimentos agropecuários, por plantel de suínos e classificações de médio produtor\n",
    "\n",
    "<img src=\"03_Pesquisa_Agropecuario.png\" alt=\"03_Pesquisa_Agropecuaria\">"
   ]
  },
  {
   "cell_type": "markdown",
   "id": "fa7e4d6f",
   "metadata": {},
   "source": [
    "### 4 - Selecionar Variáveis\n",
    "\n",
    "**Variaveis:** 2586- Número de estabelecimentos agropecuários com suínos\n",
    "\n",
    "**Período:** 2006\n",
    "\n",
    "<img src=\"04_Variaves.png\" alt=\"04_Variaves\">"
   ]
  },
  {
   "cell_type": "markdown",
   "id": "17aa56a9",
   "metadata": {},
   "source": [
    "### 5 - Selecionar demais informações e gerar URL\n",
    "\n",
    "**Nivel Geografico:** N1- Brasil\n",
    "\n",
    "**Localidades:** Brasil\n",
    "    \n",
    "**Gerar URL**    \n",
    "\n",
    "<img src=\"05_Gerar_URL.png\" alt=\"05_Gerar_URL\">"
   ]
  },
  {
   "cell_type": "markdown",
   "id": "d33ca7bc",
   "metadata": {},
   "source": [
    "#### 04. Instalando a biblioteca 'request' no jupyter notebook\n",
    "\n",
    "**Comando:** !pip install requests"
   ]
  },
  {
   "cell_type": "code",
   "execution_count": 1,
   "id": "9e6da319",
   "metadata": {},
   "outputs": [
    {
     "name": "stdout",
     "output_type": "stream",
     "text": [
      "Requirement already satisfied: requests in c:\\users\\josi\\anaconda3\\lib\\site-packages (2.28.1)\n",
      "Requirement already satisfied: urllib3<1.27,>=1.21.1 in c:\\users\\josi\\anaconda3\\lib\\site-packages (from requests) (1.26.11)\n",
      "Requirement already satisfied: charset-normalizer<3,>=2 in c:\\users\\josi\\anaconda3\\lib\\site-packages (from requests) (2.0.4)\n",
      "Requirement already satisfied: certifi>=2017.4.17 in c:\\users\\josi\\anaconda3\\lib\\site-packages (from requests) (2022.9.14)\n",
      "Requirement already satisfied: idna<4,>=2.5 in c:\\users\\josi\\anaconda3\\lib\\site-packages (from requests) (3.3)\n"
     ]
    }
   ],
   "source": [
    "!pip install requests"
   ]
  },
  {
   "cell_type": "markdown",
   "id": "9928ab64",
   "metadata": {},
   "source": [
    "#### 05. Importando a biblioteca 'request', incluindo o link gerado para Leitura "
   ]
  },
  {
   "cell_type": "code",
   "execution_count": 3,
   "id": "7ac789b9",
   "metadata": {},
   "outputs": [
    {
     "name": "stdout",
     "output_type": "stream",
     "text": [
      "[{'id': '2586', 'variavel': 'Número de estabelecimentos agropecuários com suínos', 'unidade': 'Unidades', 'resultados': [{'classificacoes': [{'id': '637', 'nome': 'Classificação de médio produtor', 'categoria': {'0': 'Total'}}, {'id': '12650', 'nome': 'Plantel de suínos', 'categoria': {'116700': 'Total'}}], 'series': [{'localidade': {'id': '1', 'nivel': {'id': 'N1', 'nome': 'Brasil'}, 'nome': 'Brasil'}, 'serie': {'2006': '1496422'}}]}]}]\n"
     ]
    }
   ],
   "source": [
    "import requests\n",
    "\n",
    "link = \"https://servicodados.ibge.gov.br/api/v3/agregados/4112/periodos/2006/variaveis/2586?localidades=N1[all]\"\n",
    "\n",
    "requisicao = requests.get(link)\n",
    "\n",
    "### Armazenar o resultado na variavel informacoes\n",
    "\n",
    "informacoes = requisicao.json()\n",
    "\n",
    "### Print das informações em formato json\n",
    "\n",
    "print(requisicao.json())"
   ]
  },
  {
   "cell_type": "code",
   "execution_count": 4,
   "id": "9713e92c",
   "metadata": {},
   "outputs": [
    {
     "name": "stdout",
     "output_type": "stream",
     "text": [
      "[{'id': '2586',\n",
      "  'resultados': [{'classificacoes': [{'categoria': {'0': 'Total'},\n",
      "                                      'id': '637',\n",
      "                                      'nome': 'Classificação de médio '\n",
      "                                              'produtor'},\n",
      "                                     {'categoria': {'116700': 'Total'},\n",
      "                                      'id': '12650',\n",
      "                                      'nome': 'Plantel de suínos'}],\n",
      "                  'series': [{'localidade': {'id': '1',\n",
      "                                             'nivel': {'id': 'N1',\n",
      "                                                       'nome': 'Brasil'},\n",
      "                                             'nome': 'Brasil'},\n",
      "                              'serie': {'2006': '1496422'}}]}],\n",
      "  'unidade': 'Unidades',\n",
      "  'variavel': 'Número de estabelecimentos agropecuários com suínos'}]\n"
     ]
    }
   ],
   "source": [
    "### Utilizando a biblioteca pprint para organizar as informações\n",
    "\n",
    "import pprint\n",
    "\n",
    "pprint.pprint(informacoes)"
   ]
  },
  {
   "cell_type": "code",
   "execution_count": 8,
   "id": "697caabc",
   "metadata": {},
   "outputs": [
    {
     "name": "stdout",
     "output_type": "stream",
     "text": [
      "{'id': '2586',\n",
      " 'resultados': [{'classificacoes': [{'categoria': {'0': 'Total'},\n",
      "                                     'id': '637',\n",
      "                                     'nome': 'Classificação de médio produtor'},\n",
      "                                    {'categoria': {'116700': 'Total'},\n",
      "                                     'id': '12650',\n",
      "                                     'nome': 'Plantel de suínos'}],\n",
      "                 'series': [{'localidade': {'id': '1',\n",
      "                                            'nivel': {'id': 'N1',\n",
      "                                                      'nome': 'Brasil'},\n",
      "                                            'nome': 'Brasil'},\n",
      "                             'serie': {'2006': '1496422'}}]}],\n",
      " 'unidade': 'Unidades',\n",
      " 'variavel': 'Número de estabelecimentos agropecuários com suínos'}\n"
     ]
    }
   ],
   "source": [
    "pprint.pprint(informacoes[0])"
   ]
  },
  {
   "cell_type": "code",
   "execution_count": 9,
   "id": "cbe82107",
   "metadata": {},
   "outputs": [],
   "source": [
    "### Extraindo as informações de Variaveis e Series\n",
    "\n",
    "item_busca = informacoes[0]['variavel'] #variavel\n",
    "resultados = informacoes[0]['resultados'][0]['series'] #series"
   ]
  },
  {
   "cell_type": "code",
   "execution_count": 10,
   "id": "2e122c8d",
   "metadata": {},
   "outputs": [
    {
     "name": "stdout",
     "output_type": "stream",
     "text": [
      "Número de estabelecimentos agropecuários com suínos\n",
      "[{'localidade': {'id': '1', 'nivel': {'id': 'N1', 'nome': 'Brasil'}, 'nome': 'Brasil'}, 'serie': {'2006': '1496422'}}]\n"
     ]
    }
   ],
   "source": [
    "print(item_busca)\n",
    "print(resultados)"
   ]
  },
  {
   "cell_type": "markdown",
   "id": "16be91f4",
   "metadata": {},
   "source": [
    "**Resultado:** O Número total de estabelecimentos agropecuários com suínos no ano de 2006 é de **1.496.422**"
   ]
  },
  {
   "cell_type": "code",
   "execution_count": null,
   "id": "386861cf",
   "metadata": {},
   "outputs": [],
   "source": []
  }
 ],
 "metadata": {
  "kernelspec": {
   "display_name": "Python 3 (ipykernel)",
   "language": "python",
   "name": "python3"
  },
  "language_info": {
   "codemirror_mode": {
    "name": "ipython",
    "version": 3
   },
   "file_extension": ".py",
   "mimetype": "text/x-python",
   "name": "python",
   "nbconvert_exporter": "python",
   "pygments_lexer": "ipython3",
   "version": "3.9.13"
  }
 },
 "nbformat": 4,
 "nbformat_minor": 5
}
